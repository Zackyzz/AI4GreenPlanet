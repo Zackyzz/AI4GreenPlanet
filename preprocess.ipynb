{
 "cells": [
  {
   "cell_type": "code",
   "execution_count": 1,
   "metadata": {},
   "outputs": [],
   "source": [
    "import pandas as pd\n",
    "energy_data = pd.read_csv(\"energy_for_10_days.csv\")\n",
    "envirnoment_data = pd.read_csv(\"environment_for_10_days.csv\")"
   ]
  },
  {
   "cell_type": "code",
   "execution_count": 2,
   "metadata": {},
   "outputs": [
    {
     "data": {
      "text/plain": [
       "103370"
      ]
     },
     "metadata": {},
     "output_type": "display_data"
    },
    {
     "data": {
      "text/plain": [
       "0"
      ]
     },
     "metadata": {},
     "output_type": "display_data"
    }
   ],
   "source": [
    "display(envirnoment_data.isnull().sum().sum())\n",
    "display(energy_data.isnull().sum().sum())"
   ]
  },
  {
   "cell_type": "code",
   "execution_count": 3,
   "metadata": {},
   "outputs": [
    {
     "data": {
      "text/html": [
       "<div>\n",
       "<style scoped>\n",
       "    .dataframe tbody tr th:only-of-type {\n",
       "        vertical-align: middle;\n",
       "    }\n",
       "\n",
       "    .dataframe tbody tr th {\n",
       "        vertical-align: top;\n",
       "    }\n",
       "\n",
       "    .dataframe thead th {\n",
       "        text-align: right;\n",
       "    }\n",
       "</style>\n",
       "<table border=\"1\" class=\"dataframe\">\n",
       "  <thead>\n",
       "    <tr style=\"text-align: right;\">\n",
       "      <th></th>\n",
       "      <th>timestamp</th>\n",
       "      <th>sound</th>\n",
       "      <th>pressure</th>\n",
       "      <th>temp</th>\n",
       "      <th>humidity</th>\n",
       "      <th>voc</th>\n",
       "      <th>roll</th>\n",
       "      <th>pitch</th>\n",
       "      <th>yaw</th>\n",
       "      <th>Xacc</th>\n",
       "      <th>Yacc</th>\n",
       "      <th>Zacc</th>\n",
       "      <th>Xgyr</th>\n",
       "      <th>Ygyr</th>\n",
       "      <th>Zgyr</th>\n",
       "      <th>pm1.0</th>\n",
       "      <th>pm2.5</th>\n",
       "      <th>pm10</th>\n",
       "      <th>CO2</th>\n",
       "    </tr>\n",
       "    <tr>\n",
       "      <th>timestamp</th>\n",
       "      <th></th>\n",
       "      <th></th>\n",
       "      <th></th>\n",
       "      <th></th>\n",
       "      <th></th>\n",
       "      <th></th>\n",
       "      <th></th>\n",
       "      <th></th>\n",
       "      <th></th>\n",
       "      <th></th>\n",
       "      <th></th>\n",
       "      <th></th>\n",
       "      <th></th>\n",
       "      <th></th>\n",
       "      <th></th>\n",
       "      <th></th>\n",
       "      <th></th>\n",
       "      <th></th>\n",
       "      <th></th>\n",
       "    </tr>\n",
       "  </thead>\n",
       "  <tbody>\n",
       "    <tr>\n",
       "      <th>2022-11-07 00:00:00</th>\n",
       "      <td>2022-11-07 00:00:00</td>\n",
       "      <td>0.950465</td>\n",
       "      <td>1012.133533</td>\n",
       "      <td>24.767500</td>\n",
       "      <td>35.990782</td>\n",
       "      <td>29451.0</td>\n",
       "      <td>91.701984</td>\n",
       "      <td>1.329677</td>\n",
       "      <td>-60.041617</td>\n",
       "      <td>-375.0</td>\n",
       "      <td>16287.0</td>\n",
       "      <td>-474.0</td>\n",
       "      <td>2.0</td>\n",
       "      <td>3.0</td>\n",
       "      <td>-2.0</td>\n",
       "      <td>26.0</td>\n",
       "      <td>36.0</td>\n",
       "      <td>45.0</td>\n",
       "      <td>421.0</td>\n",
       "    </tr>\n",
       "    <tr>\n",
       "      <th>2022-11-07 00:00:01</th>\n",
       "      <td>2022-11-07 00:00:01</td>\n",
       "      <td>0.881076</td>\n",
       "      <td>1012.037290</td>\n",
       "      <td>24.777757</td>\n",
       "      <td>35.996349</td>\n",
       "      <td>29466.0</td>\n",
       "      <td>91.693083</td>\n",
       "      <td>1.319025</td>\n",
       "      <td>-60.002687</td>\n",
       "      <td>-372.0</td>\n",
       "      <td>16305.0</td>\n",
       "      <td>-469.0</td>\n",
       "      <td>3.0</td>\n",
       "      <td>5.0</td>\n",
       "      <td>0.0</td>\n",
       "      <td>26.0</td>\n",
       "      <td>36.0</td>\n",
       "      <td>45.0</td>\n",
       "      <td>421.0</td>\n",
       "    </tr>\n",
       "    <tr>\n",
       "      <th>2022-11-07 00:00:02</th>\n",
       "      <td>2022-11-07 00:00:02</td>\n",
       "      <td>0.863325</td>\n",
       "      <td>1012.025698</td>\n",
       "      <td>24.762371</td>\n",
       "      <td>36.002125</td>\n",
       "      <td>29467.0</td>\n",
       "      <td>91.700382</td>\n",
       "      <td>1.333419</td>\n",
       "      <td>-60.060559</td>\n",
       "      <td>-380.0</td>\n",
       "      <td>16280.0</td>\n",
       "      <td>-473.0</td>\n",
       "      <td>4.0</td>\n",
       "      <td>3.0</td>\n",
       "      <td>0.0</td>\n",
       "      <td>26.0</td>\n",
       "      <td>36.0</td>\n",
       "      <td>45.0</td>\n",
       "      <td>419.0</td>\n",
       "    </tr>\n",
       "    <tr>\n",
       "      <th>2022-11-07 00:00:03</th>\n",
       "      <td>2022-11-07 00:00:03</td>\n",
       "      <td>0.908509</td>\n",
       "      <td>1012.083523</td>\n",
       "      <td>24.767500</td>\n",
       "      <td>36.013384</td>\n",
       "      <td>29459.0</td>\n",
       "      <td>91.692620</td>\n",
       "      <td>1.321378</td>\n",
       "      <td>-60.022572</td>\n",
       "      <td>-371.0</td>\n",
       "      <td>16307.0</td>\n",
       "      <td>-468.0</td>\n",
       "      <td>4.0</td>\n",
       "      <td>5.0</td>\n",
       "      <td>0.0</td>\n",
       "      <td>26.0</td>\n",
       "      <td>36.0</td>\n",
       "      <td>45.0</td>\n",
       "      <td>418.0</td>\n",
       "    </tr>\n",
       "    <tr>\n",
       "      <th>2022-11-07 00:00:04</th>\n",
       "      <td>2022-11-07 00:00:04</td>\n",
       "      <td>0.924645</td>\n",
       "      <td>1012.091207</td>\n",
       "      <td>24.767500</td>\n",
       "      <td>36.013384</td>\n",
       "      <td>29454.0</td>\n",
       "      <td>91.696569</td>\n",
       "      <td>1.335837</td>\n",
       "      <td>-60.084356</td>\n",
       "      <td>-376.0</td>\n",
       "      <td>16282.0</td>\n",
       "      <td>-468.0</td>\n",
       "      <td>4.0</td>\n",
       "      <td>3.0</td>\n",
       "      <td>-2.0</td>\n",
       "      <td>26.0</td>\n",
       "      <td>36.0</td>\n",
       "      <td>44.0</td>\n",
       "      <td>418.0</td>\n",
       "    </tr>\n",
       "    <tr>\n",
       "      <th>...</th>\n",
       "      <td>...</td>\n",
       "      <td>...</td>\n",
       "      <td>...</td>\n",
       "      <td>...</td>\n",
       "      <td>...</td>\n",
       "      <td>...</td>\n",
       "      <td>...</td>\n",
       "      <td>...</td>\n",
       "      <td>...</td>\n",
       "      <td>...</td>\n",
       "      <td>...</td>\n",
       "      <td>...</td>\n",
       "      <td>...</td>\n",
       "      <td>...</td>\n",
       "      <td>...</td>\n",
       "      <td>...</td>\n",
       "      <td>...</td>\n",
       "      <td>...</td>\n",
       "      <td>...</td>\n",
       "    </tr>\n",
       "    <tr>\n",
       "      <th>2022-11-18 23:59:55</th>\n",
       "      <td>2022-11-18 23:59:55</td>\n",
       "      <td>1.266748</td>\n",
       "      <td>998.152750</td>\n",
       "      <td>27.367712</td>\n",
       "      <td>31.452703</td>\n",
       "      <td>29111.0</td>\n",
       "      <td>91.830421</td>\n",
       "      <td>1.404086</td>\n",
       "      <td>-60.064788</td>\n",
       "      <td>-394.0</td>\n",
       "      <td>16272.0</td>\n",
       "      <td>-510.0</td>\n",
       "      <td>0.0</td>\n",
       "      <td>3.0</td>\n",
       "      <td>-1.0</td>\n",
       "      <td>0.0</td>\n",
       "      <td>0.0</td>\n",
       "      <td>0.0</td>\n",
       "      <td>NaN</td>\n",
       "    </tr>\n",
       "    <tr>\n",
       "      <th>2022-11-18 23:59:56</th>\n",
       "      <td>2022-11-18 23:59:56</td>\n",
       "      <td>1.234474</td>\n",
       "      <td>998.179810</td>\n",
       "      <td>27.362583</td>\n",
       "      <td>31.458493</td>\n",
       "      <td>29102.0</td>\n",
       "      <td>91.835675</td>\n",
       "      <td>1.412571</td>\n",
       "      <td>-60.116193</td>\n",
       "      <td>-400.0</td>\n",
       "      <td>16277.0</td>\n",
       "      <td>-516.0</td>\n",
       "      <td>1.0</td>\n",
       "      <td>3.0</td>\n",
       "      <td>1.0</td>\n",
       "      <td>0.0</td>\n",
       "      <td>0.0</td>\n",
       "      <td>0.0</td>\n",
       "      <td>NaN</td>\n",
       "    </tr>\n",
       "    <tr>\n",
       "      <th>2022-11-18 23:59:57</th>\n",
       "      <td>2022-11-18 23:59:57</td>\n",
       "      <td>1.195746</td>\n",
       "      <td>998.199324</td>\n",
       "      <td>27.377969</td>\n",
       "      <td>31.463888</td>\n",
       "      <td>29103.0</td>\n",
       "      <td>91.845737</td>\n",
       "      <td>1.402164</td>\n",
       "      <td>-60.113403</td>\n",
       "      <td>-390.0</td>\n",
       "      <td>16281.0</td>\n",
       "      <td>-531.0</td>\n",
       "      <td>1.0</td>\n",
       "      <td>2.0</td>\n",
       "      <td>1.0</td>\n",
       "      <td>0.0</td>\n",
       "      <td>0.0</td>\n",
       "      <td>0.0</td>\n",
       "      <td>NaN</td>\n",
       "    </tr>\n",
       "    <tr>\n",
       "      <th>2022-11-18 23:59:58</th>\n",
       "      <td>2022-11-18 23:59:58</td>\n",
       "      <td>1.157017</td>\n",
       "      <td>998.194899</td>\n",
       "      <td>27.383098</td>\n",
       "      <td>31.480863</td>\n",
       "      <td>29103.0</td>\n",
       "      <td>91.867335</td>\n",
       "      <td>1.416190</td>\n",
       "      <td>-60.176338</td>\n",
       "      <td>-402.0</td>\n",
       "      <td>16280.0</td>\n",
       "      <td>-546.0</td>\n",
       "      <td>-2.0</td>\n",
       "      <td>3.0</td>\n",
       "      <td>0.0</td>\n",
       "      <td>0.0</td>\n",
       "      <td>0.0</td>\n",
       "      <td>0.0</td>\n",
       "      <td>NaN</td>\n",
       "    </tr>\n",
       "    <tr>\n",
       "      <th>2022-11-18 23:59:59</th>\n",
       "      <td>2022-11-18 23:59:59</td>\n",
       "      <td>1.339364</td>\n",
       "      <td>998.176037</td>\n",
       "      <td>27.360019</td>\n",
       "      <td>31.478460</td>\n",
       "      <td>29104.5</td>\n",
       "      <td>91.835857</td>\n",
       "      <td>1.385392</td>\n",
       "      <td>-60.070311</td>\n",
       "      <td>-388.5</td>\n",
       "      <td>16296.5</td>\n",
       "      <td>-500.0</td>\n",
       "      <td>1.0</td>\n",
       "      <td>4.0</td>\n",
       "      <td>1.0</td>\n",
       "      <td>0.0</td>\n",
       "      <td>0.0</td>\n",
       "      <td>0.0</td>\n",
       "      <td>NaN</td>\n",
       "    </tr>\n",
       "  </tbody>\n",
       "</table>\n",
       "<p>860372 rows × 19 columns</p>\n",
       "</div>"
      ],
      "text/plain": [
       "                              timestamp     sound     pressure       temp  \\\n",
       "timestamp                                                                   \n",
       "2022-11-07 00:00:00 2022-11-07 00:00:00  0.950465  1012.133533  24.767500   \n",
       "2022-11-07 00:00:01 2022-11-07 00:00:01  0.881076  1012.037290  24.777757   \n",
       "2022-11-07 00:00:02 2022-11-07 00:00:02  0.863325  1012.025698  24.762371   \n",
       "2022-11-07 00:00:03 2022-11-07 00:00:03  0.908509  1012.083523  24.767500   \n",
       "2022-11-07 00:00:04 2022-11-07 00:00:04  0.924645  1012.091207  24.767500   \n",
       "...                                 ...       ...          ...        ...   \n",
       "2022-11-18 23:59:55 2022-11-18 23:59:55  1.266748   998.152750  27.367712   \n",
       "2022-11-18 23:59:56 2022-11-18 23:59:56  1.234474   998.179810  27.362583   \n",
       "2022-11-18 23:59:57 2022-11-18 23:59:57  1.195746   998.199324  27.377969   \n",
       "2022-11-18 23:59:58 2022-11-18 23:59:58  1.157017   998.194899  27.383098   \n",
       "2022-11-18 23:59:59 2022-11-18 23:59:59  1.339364   998.176037  27.360019   \n",
       "\n",
       "                      humidity      voc       roll     pitch        yaw  \\\n",
       "timestamp                                                                 \n",
       "2022-11-07 00:00:00  35.990782  29451.0  91.701984  1.329677 -60.041617   \n",
       "2022-11-07 00:00:01  35.996349  29466.0  91.693083  1.319025 -60.002687   \n",
       "2022-11-07 00:00:02  36.002125  29467.0  91.700382  1.333419 -60.060559   \n",
       "2022-11-07 00:00:03  36.013384  29459.0  91.692620  1.321378 -60.022572   \n",
       "2022-11-07 00:00:04  36.013384  29454.0  91.696569  1.335837 -60.084356   \n",
       "...                        ...      ...        ...       ...        ...   \n",
       "2022-11-18 23:59:55  31.452703  29111.0  91.830421  1.404086 -60.064788   \n",
       "2022-11-18 23:59:56  31.458493  29102.0  91.835675  1.412571 -60.116193   \n",
       "2022-11-18 23:59:57  31.463888  29103.0  91.845737  1.402164 -60.113403   \n",
       "2022-11-18 23:59:58  31.480863  29103.0  91.867335  1.416190 -60.176338   \n",
       "2022-11-18 23:59:59  31.478460  29104.5  91.835857  1.385392 -60.070311   \n",
       "\n",
       "                      Xacc     Yacc   Zacc  Xgyr  Ygyr  Zgyr  pm1.0  pm2.5  \\\n",
       "timestamp                                                                    \n",
       "2022-11-07 00:00:00 -375.0  16287.0 -474.0   2.0   3.0  -2.0   26.0   36.0   \n",
       "2022-11-07 00:00:01 -372.0  16305.0 -469.0   3.0   5.0   0.0   26.0   36.0   \n",
       "2022-11-07 00:00:02 -380.0  16280.0 -473.0   4.0   3.0   0.0   26.0   36.0   \n",
       "2022-11-07 00:00:03 -371.0  16307.0 -468.0   4.0   5.0   0.0   26.0   36.0   \n",
       "2022-11-07 00:00:04 -376.0  16282.0 -468.0   4.0   3.0  -2.0   26.0   36.0   \n",
       "...                    ...      ...    ...   ...   ...   ...    ...    ...   \n",
       "2022-11-18 23:59:55 -394.0  16272.0 -510.0   0.0   3.0  -1.0    0.0    0.0   \n",
       "2022-11-18 23:59:56 -400.0  16277.0 -516.0   1.0   3.0   1.0    0.0    0.0   \n",
       "2022-11-18 23:59:57 -390.0  16281.0 -531.0   1.0   2.0   1.0    0.0    0.0   \n",
       "2022-11-18 23:59:58 -402.0  16280.0 -546.0  -2.0   3.0   0.0    0.0    0.0   \n",
       "2022-11-18 23:59:59 -388.5  16296.5 -500.0   1.0   4.0   1.0    0.0    0.0   \n",
       "\n",
       "                     pm10    CO2  \n",
       "timestamp                         \n",
       "2022-11-07 00:00:00  45.0  421.0  \n",
       "2022-11-07 00:00:01  45.0  421.0  \n",
       "2022-11-07 00:00:02  45.0  419.0  \n",
       "2022-11-07 00:00:03  45.0  418.0  \n",
       "2022-11-07 00:00:04  44.0  418.0  \n",
       "...                   ...    ...  \n",
       "2022-11-18 23:59:55   0.0    NaN  \n",
       "2022-11-18 23:59:56   0.0    NaN  \n",
       "2022-11-18 23:59:57   0.0    NaN  \n",
       "2022-11-18 23:59:58   0.0    NaN  \n",
       "2022-11-18 23:59:59   0.0    NaN  \n",
       "\n",
       "[860372 rows x 19 columns]"
      ]
     },
     "execution_count": 3,
     "metadata": {},
     "output_type": "execute_result"
    }
   ],
   "source": [
    "energy_data['timestamp'] = pd.to_datetime(energy_data[\"timestamp\"], format=\"%Y-%m-%d %H:%M:%S\")\n",
    "envirnoment_data['timestamp'] = pd.to_datetime(envirnoment_data[\"timestamp\"], format=\"%Y-%m-%d %H:%M:%S\")\n",
    "energy_data.index = energy_data.timestamp\n",
    "envirnoment_data.index = envirnoment_data.timestamp\n",
    "envirnoment_data"
   ]
  },
  {
   "cell_type": "code",
   "execution_count": 4,
   "metadata": {},
   "outputs": [
    {
     "data": {
      "text/plain": [
       "count    860372.000000\n",
       "mean          1.104356\n",
       "std           0.516331\n",
       "min           0.000000\n",
       "25%           0.951271\n",
       "50%           1.140880\n",
       "75%           1.331296\n",
       "max           3.303227\n",
       "Name: sound, dtype: float64"
      ]
     },
     "execution_count": 4,
     "metadata": {},
     "output_type": "execute_result"
    }
   ],
   "source": [
    "envirnoment_data['sound'].describe()"
   ]
  },
  {
   "cell_type": "code",
   "execution_count": 5,
   "metadata": {},
   "outputs": [],
   "source": [
    "import matplotlib.pyplot as plt\n",
    "import numpy as np"
   ]
  },
  {
   "cell_type": "code",
   "execution_count": 6,
   "metadata": {},
   "outputs": [],
   "source": [
    "def fill_nan_values(df):\n",
    "    for i in df:\n",
    "        if df[i].isnull().sum() > 0:\n",
    "            df[i] = df[i].interpolate(method ='nearest', limit_direction='both')\n",
    "            #df[i].fillna(method='ffill')\n",
    "\n",
    "#fill_nan_values(energy_data)\n",
    "#fill_nan_values(envirnoment_data)"
   ]
  },
  {
   "cell_type": "code",
   "execution_count": 7,
   "metadata": {},
   "outputs": [],
   "source": [
    "def clip_data(df):\n",
    "    for i in df:\n",
    "        if i != 'timestamp':\n",
    "            mean_i = df[i].mean()\n",
    "            var_i = df[i].var()\n",
    "            df[i] = np.clip(df[i], - mean_i - 2 * var_i, mean_i + 2 * var_i)\n",
    "\n",
    "clip_data(envirnoment_data)\n",
    "clip_data(energy_data)"
   ]
  },
  {
   "cell_type": "code",
   "execution_count": 8,
   "metadata": {},
   "outputs": [
    {
     "data": {
      "image/png": "[encoded data removed]",
      "text/plain": [
       "<Figure size 432x288 with 1 Axes>"
      ]
     },
     "metadata": {
      "needs_background": "light"
     },
     "output_type": "display_data"
    }
   ],
   "source": [
    "#Active Power Average A,B,C can combined\n",
    "plt.plot(energy_data['Active Power A average [kW]'], color='red')\n",
    "plt.plot(energy_data['Active Power B average [kW]'], color='blue')\n",
    "plt.plot(energy_data['Active Power C average [kW]'], color='yellow')\n",
    "plt.show()"
   ]
  },
  {
   "cell_type": "code",
   "execution_count": 9,
   "metadata": {},
   "outputs": [
    {
     "data": {
      "image/png": "[encoded data removed]",
      "text/plain": [
       "<Figure size 432x288 with 1 Axes>"
      ]
     },
     "metadata": {
      "needs_background": "light"
     },
     "output_type": "display_data"
    }
   ],
   "source": [
    "#TDHI A,B,C can combined\n",
    "#contains high-noise in day 2\n",
    "plt.plot(energy_data['THDI A average [%]'], color='red')\n",
    "plt.plot(energy_data['THDI B average [%]'], color='blue')\n",
    "plt.plot(energy_data['THDI C average [%]'], color='yellow')\n",
    "plt.show()"
   ]
  },
  {
   "cell_type": "code",
   "execution_count": 10,
   "metadata": {},
   "outputs": [
    {
     "data": {
      "image/png": "[encoded data removed]",
      "text/plain": [
       "<Figure size 432x288 with 1 Axes>"
      ]
     },
     "metadata": {
      "needs_background": "light"
     },
     "output_type": "display_data"
    }
   ],
   "source": [
    "#TDHU A and C can be combined\n",
    "#high noise between day 7 and 8\n",
    "plt.plot(energy_data['THDU A average [%]'], color='red')\n",
    "plt.plot(energy_data['THDU B average [%]'], color='blue')\n",
    "plt.plot(energy_data['THDU C average [%]'], color='yellow')\n",
    "plt.show()"
   ]
  },
  {
   "cell_type": "code",
   "execution_count": 11,
   "metadata": {},
   "outputs": [
    {
     "data": {
      "image/png": "[encoded data removed]",
      "text/plain": [
       "<Figure size 432x288 with 1 Axes>"
      ]
     },
     "metadata": {
      "needs_background": "light"
     },
     "output_type": "display_data"
    }
   ],
   "source": [
    "#Current A average A,B,C can be combined, also it's identical to Average Power Average A,B,C\n",
    "plt.plot(energy_data['Current A average [A]'], color='red')\n",
    "plt.plot(energy_data['Current B average [A]'], color='blue')\n",
    "plt.plot(energy_data['Current C average [A]'], color='yellow')\n",
    "plt.show()"
   ]
  },
  {
   "cell_type": "code",
   "execution_count": 12,
   "metadata": {},
   "outputs": [
    {
     "data": {
      "image/png": "[encoded data removed]",
      "text/plain": [
       "<Figure size 432x288 with 1 Axes>"
      ]
     },
     "metadata": {
      "needs_background": "light"
     },
     "output_type": "display_data"
    }
   ],
   "source": [
    "#can't be combined\n",
    "plt.plot(energy_data['Voltage A average [V]'], color='red')\n",
    "plt.plot(energy_data['Voltage B average [V]'], color='blue')\n",
    "plt.plot(energy_data['Voltage C average [V]'], color='yellow')\n",
    "plt.show()"
   ]
  },
  {
   "cell_type": "code",
   "execution_count": 13,
   "metadata": {},
   "outputs": [
    {
     "data": {
      "image/png": "[encoded data removed]",
      "text/plain": [
       "<Figure size 432x288 with 1 Axes>"
      ]
     },
     "metadata": {
      "needs_background": "light"
     },
     "output_type": "display_data"
    }
   ],
   "source": [
    "#Power Factor A and C can be combined\n",
    "#high noise in day 9\n",
    "plt.plot(energy_data['Power Factor A average'], color='red')\n",
    "plt.plot(energy_data['Power Factor B average'], color='blue', alpha=0.5)\n",
    "plt.plot(energy_data['Power Factor C average'], color='yellow')\n",
    "plt.show()"
   ]
  },
  {
   "cell_type": "code",
   "execution_count": 14,
   "metadata": {},
   "outputs": [
    {
     "data": {
      "image/png": "[encoded data removed]",
      "text/plain": [
       "<Figure size 432x288 with 1 Axes>"
      ]
     },
     "metadata": {
      "needs_background": "light"
     },
     "output_type": "display_data"
    },
    {
     "data": {
      "image/png": "[encoded data removed]",
      "text/plain": [
       "<Figure size 432x288 with 1 Axes>"
      ]
     },
     "metadata": {
      "needs_background": "light"
     },
     "output_type": "display_data"
    }
   ],
   "source": [
    "#Reactive Power average A,B,C can be combined\n",
    "#also can be combined with Active Power average and Current Average\n",
    "plt.plot(energy_data['Reactive Power A average [kVAr]'], color='red')\n",
    "plt.plot(energy_data['Reactive Power B average [kVAr]'], color='blue')\n",
    "plt.plot(energy_data['Reactive Power C average [kVAr]'], color='yellow')\n",
    "plt.show()\n",
    "plt.plot(energy_data['Reactive Power Total average [kVAr]'][0:60*60*24], color='black',alpha=0.5)\n",
    "plt.show()"
   ]
  },
  {
   "cell_type": "code",
   "execution_count": 15,
   "metadata": {},
   "outputs": [
    {
     "data": {
      "image/png": "[encoded data removed]",
      "text/plain": [
       "<Figure size 432x288 with 1 Axes>"
      ]
     },
     "metadata": {
      "needs_background": "light"
     },
     "output_type": "display_data"
    }
   ],
   "source": [
    "plt.plot(envirnoment_data['sound'], color='red')\n",
    "plt.show()"
   ]
  },
  {
   "cell_type": "code",
   "execution_count": 16,
   "metadata": {},
   "outputs": [
    {
     "data": {
      "image/png": "[encoded data removed]",
      "text/plain": [
       "<Figure size 432x288 with 1 Axes>"
      ]
     },
     "metadata": {
      "needs_background": "light"
     },
     "output_type": "display_data"
    }
   ],
   "source": [
    "plt.plot(envirnoment_data['Xgyr'], color='red')\n",
    "plt.show()"
   ]
  },
  {
   "cell_type": "code",
   "execution_count": 17,
   "metadata": {},
   "outputs": [
    {
     "data": {
      "text/html": [
       "<div>\n",
       "<style scoped>\n",
       "    .dataframe tbody tr th:only-of-type {\n",
       "        vertical-align: middle;\n",
       "    }\n",
       "\n",
       "    .dataframe tbody tr th {\n",
       "        vertical-align: top;\n",
       "    }\n",
       "\n",
       "    .dataframe thead th {\n",
       "        text-align: right;\n",
       "    }\n",
       "</style>\n",
       "<table border=\"1\" class=\"dataframe\">\n",
       "  <thead>\n",
       "    <tr style=\"text-align: right;\">\n",
       "      <th></th>\n",
       "      <th>THDI A average [%]</th>\n",
       "      <th>THDU A average [%]</th>\n",
       "      <th>Reactive Power A average [kVAr]</th>\n",
       "      <th>temp</th>\n",
       "      <th>sound</th>\n",
       "    </tr>\n",
       "    <tr>\n",
       "      <th>timestamp</th>\n",
       "      <th></th>\n",
       "      <th></th>\n",
       "      <th></th>\n",
       "      <th></th>\n",
       "      <th></th>\n",
       "    </tr>\n",
       "  </thead>\n",
       "  <tbody>\n",
       "    <tr>\n",
       "      <th>2022-11-07 00:00:29</th>\n",
       "      <td>0.0</td>\n",
       "      <td>1.1</td>\n",
       "      <td>0.0</td>\n",
       "      <td>24.741857</td>\n",
       "      <td>0.884303</td>\n",
       "    </tr>\n",
       "    <tr>\n",
       "      <th>2022-11-07 00:00:30</th>\n",
       "      <td>0.0</td>\n",
       "      <td>1.1</td>\n",
       "      <td>0.0</td>\n",
       "      <td>24.739293</td>\n",
       "      <td>0.956112</td>\n",
       "    </tr>\n",
       "    <tr>\n",
       "      <th>2022-11-07 00:00:31</th>\n",
       "      <td>0.0</td>\n",
       "      <td>1.1</td>\n",
       "      <td>0.0</td>\n",
       "      <td>24.736728</td>\n",
       "      <td>0.893985</td>\n",
       "    </tr>\n",
       "  </tbody>\n",
       "</table>\n",
       "</div>"
      ],
      "text/plain": [
       "                     THDI A average [%]  THDU A average [%]  \\\n",
       "timestamp                                                     \n",
       "2022-11-07 00:00:29                 0.0                 1.1   \n",
       "2022-11-07 00:00:30                 0.0                 1.1   \n",
       "2022-11-07 00:00:31                 0.0                 1.1   \n",
       "\n",
       "                     Reactive Power A average [kVAr]       temp     sound  \n",
       "timestamp                                                                  \n",
       "2022-11-07 00:00:29                              0.0  24.741857  0.884303  \n",
       "2022-11-07 00:00:30                              0.0  24.739293  0.956112  \n",
       "2022-11-07 00:00:31                              0.0  24.736728  0.893985  "
      ]
     },
     "execution_count": 17,
     "metadata": {},
     "output_type": "execute_result"
    }
   ],
   "source": [
    "cluster_df = energy_data[['THDI A average [%]', 'THDU A average [%]', 'Reactive Power A average [kVAr]']]\n",
    "temp = envirnoment_data[['temp','sound']]\n",
    "cluster_df = cluster_df.merge(temp, on = 'timestamp')\n",
    "cluster_df[13:16]"
   ]
  },
  {
   "cell_type": "code",
   "execution_count": 18,
   "metadata": {},
   "outputs": [
    {
     "data": {
      "text/html": [
       "<div>\n",
       "<style scoped>\n",
       "    .dataframe tbody tr th:only-of-type {\n",
       "        vertical-align: middle;\n",
       "    }\n",
       "\n",
       "    .dataframe tbody tr th {\n",
       "        vertical-align: top;\n",
       "    }\n",
       "\n",
       "    .dataframe thead th {\n",
       "        text-align: right;\n",
       "    }\n",
       "</style>\n",
       "<table border=\"1\" class=\"dataframe\">\n",
       "  <thead>\n",
       "    <tr style=\"text-align: right;\">\n",
       "      <th></th>\n",
       "      <th>THDI A average [%]</th>\n",
       "      <th>THDU A average [%]</th>\n",
       "      <th>Reactive Power A average [kVAr]</th>\n",
       "      <th>temp</th>\n",
       "      <th>sound</th>\n",
       "      <th>hour</th>\n",
       "      <th>day</th>\n",
       "    </tr>\n",
       "    <tr>\n",
       "      <th>timestamp</th>\n",
       "      <th></th>\n",
       "      <th></th>\n",
       "      <th></th>\n",
       "      <th></th>\n",
       "      <th></th>\n",
       "      <th></th>\n",
       "      <th></th>\n",
       "    </tr>\n",
       "  </thead>\n",
       "  <tbody>\n",
       "    <tr>\n",
       "      <th>2022-11-07 08:00:16</th>\n",
       "      <td>0.0</td>\n",
       "      <td>1.1</td>\n",
       "      <td>123.643</td>\n",
       "      <td>24.434145</td>\n",
       "      <td>0.889144</td>\n",
       "      <td>8</td>\n",
       "      <td>7</td>\n",
       "    </tr>\n",
       "    <tr>\n",
       "      <th>2022-11-07 08:00:17</th>\n",
       "      <td>0.0</td>\n",
       "      <td>1.1</td>\n",
       "      <td>123.073</td>\n",
       "      <td>24.434145</td>\n",
       "      <td>0.995648</td>\n",
       "      <td>8</td>\n",
       "      <td>7</td>\n",
       "    </tr>\n",
       "    <tr>\n",
       "      <th>2022-11-07 08:00:18</th>\n",
       "      <td>0.0</td>\n",
       "      <td>1.1</td>\n",
       "      <td>125.907</td>\n",
       "      <td>24.449530</td>\n",
       "      <td>0.942396</td>\n",
       "      <td>8</td>\n",
       "      <td>7</td>\n",
       "    </tr>\n",
       "    <tr>\n",
       "      <th>2022-11-07 08:00:19</th>\n",
       "      <td>0.0</td>\n",
       "      <td>1.1</td>\n",
       "      <td>131.958</td>\n",
       "      <td>24.439273</td>\n",
       "      <td>0.890758</td>\n",
       "      <td>8</td>\n",
       "      <td>7</td>\n",
       "    </tr>\n",
       "    <tr>\n",
       "      <th>2022-11-07 08:00:20</th>\n",
       "      <td>0.0</td>\n",
       "      <td>1.1</td>\n",
       "      <td>128.152</td>\n",
       "      <td>24.431580</td>\n",
       "      <td>0.959340</td>\n",
       "      <td>8</td>\n",
       "      <td>7</td>\n",
       "    </tr>\n",
       "    <tr>\n",
       "      <th>...</th>\n",
       "      <td>...</td>\n",
       "      <td>...</td>\n",
       "      <td>...</td>\n",
       "      <td>...</td>\n",
       "      <td>...</td>\n",
       "      <td>...</td>\n",
       "      <td>...</td>\n",
       "    </tr>\n",
       "    <tr>\n",
       "      <th>2022-11-08 16:59:51</th>\n",
       "      <td>0.0</td>\n",
       "      <td>1.3</td>\n",
       "      <td>0.000</td>\n",
       "      <td>25.916302</td>\n",
       "      <td>1.397457</td>\n",
       "      <td>16</td>\n",
       "      <td>8</td>\n",
       "    </tr>\n",
       "    <tr>\n",
       "      <th>2022-11-08 16:59:52</th>\n",
       "      <td>0.0</td>\n",
       "      <td>1.3</td>\n",
       "      <td>0.000</td>\n",
       "      <td>25.916302</td>\n",
       "      <td>1.413594</td>\n",
       "      <td>16</td>\n",
       "      <td>8</td>\n",
       "    </tr>\n",
       "    <tr>\n",
       "      <th>2022-11-08 16:59:53</th>\n",
       "      <td>0.0</td>\n",
       "      <td>1.3</td>\n",
       "      <td>0.000</td>\n",
       "      <td>25.906045</td>\n",
       "      <td>1.302249</td>\n",
       "      <td>16</td>\n",
       "      <td>8</td>\n",
       "    </tr>\n",
       "    <tr>\n",
       "      <th>2022-11-08 16:59:54</th>\n",
       "      <td>0.0</td>\n",
       "      <td>1.3</td>\n",
       "      <td>0.000</td>\n",
       "      <td>25.916302</td>\n",
       "      <td>1.290954</td>\n",
       "      <td>16</td>\n",
       "      <td>8</td>\n",
       "    </tr>\n",
       "    <tr>\n",
       "      <th>2022-11-08 16:59:55</th>\n",
       "      <td>0.0</td>\n",
       "      <td>1.3</td>\n",
       "      <td>0.000</td>\n",
       "      <td>25.911173</td>\n",
       "      <td>1.323227</td>\n",
       "      <td>16</td>\n",
       "      <td>8</td>\n",
       "    </tr>\n",
       "  </tbody>\n",
       "</table>\n",
       "<p>63406 rows × 7 columns</p>\n",
       "</div>"
      ],
      "text/plain": [
       "                     THDI A average [%]  THDU A average [%]  \\\n",
       "timestamp                                                     \n",
       "2022-11-07 08:00:16                 0.0                 1.1   \n",
       "2022-11-07 08:00:17                 0.0                 1.1   \n",
       "2022-11-07 08:00:18                 0.0                 1.1   \n",
       "2022-11-07 08:00:19                 0.0                 1.1   \n",
       "2022-11-07 08:00:20                 0.0                 1.1   \n",
       "...                                 ...                 ...   \n",
       "2022-11-08 16:59:51                 0.0                 1.3   \n",
       "2022-11-08 16:59:52                 0.0                 1.3   \n",
       "2022-11-08 16:59:53                 0.0                 1.3   \n",
       "2022-11-08 16:59:54                 0.0                 1.3   \n",
       "2022-11-08 16:59:55                 0.0                 1.3   \n",
       "\n",
       "                     Reactive Power A average [kVAr]       temp     sound  \\\n",
       "timestamp                                                                   \n",
       "2022-11-07 08:00:16                          123.643  24.434145  0.889144   \n",
       "2022-11-07 08:00:17                          123.073  24.434145  0.995648   \n",
       "2022-11-07 08:00:18                          125.907  24.449530  0.942396   \n",
       "2022-11-07 08:00:19                          131.958  24.439273  0.890758   \n",
       "2022-11-07 08:00:20                          128.152  24.431580  0.959340   \n",
       "...                                              ...        ...       ...   \n",
       "2022-11-08 16:59:51                            0.000  25.916302  1.397457   \n",
       "2022-11-08 16:59:52                            0.000  25.916302  1.413594   \n",
       "2022-11-08 16:59:53                            0.000  25.906045  1.302249   \n",
       "2022-11-08 16:59:54                            0.000  25.916302  1.290954   \n",
       "2022-11-08 16:59:55                            0.000  25.911173  1.323227   \n",
       "\n",
       "                     hour  day  \n",
       "timestamp                       \n",
       "2022-11-07 08:00:16     8    7  \n",
       "2022-11-07 08:00:17     8    7  \n",
       "2022-11-07 08:00:18     8    7  \n",
       "2022-11-07 08:00:19     8    7  \n",
       "2022-11-07 08:00:20     8    7  \n",
       "...                   ...  ...  \n",
       "2022-11-08 16:59:51    16    8  \n",
       "2022-11-08 16:59:52    16    8  \n",
       "2022-11-08 16:59:53    16    8  \n",
       "2022-11-08 16:59:54    16    8  \n",
       "2022-11-08 16:59:55    16    8  \n",
       "\n",
       "[63406 rows x 7 columns]"
      ]
     },
     "execution_count": 18,
     "metadata": {},
     "output_type": "execute_result"
    }
   ],
   "source": [
    "cluster_df['hour'] = cluster_df.index.hour\n",
    "mask = (cluster_df['hour'] >= 8) & (cluster_df['hour'] <= 16)\n",
    "cluster_df = cluster_df.loc[mask]\n",
    "\n",
    "cluster_df['day'] = cluster_df.index.day\n",
    "mask = (cluster_df['day'] >= 7) & (cluster_df['day'] < 9)\n",
    "cluster_df = cluster_df.loc[mask]\n",
    "\n",
    "#cluster_df = cluster_df.drop(columns=['hour', 'day'])\n",
    "cluster_df"
   ]
  },
  {
   "cell_type": "code",
   "execution_count": 19,
   "metadata": {},
   "outputs": [],
   "source": [
    "#cluster_df = cluster_df.resample('10s').mean()\n",
    "\n",
    "from sklearn.preprocessing import StandardScaler\n",
    "scaler = StandardScaler()\n",
    "\n",
    "def scale_df(df, ignored):\n",
    "    desired = df.columns.difference(ignored)\n",
    "    df[desired] = scaler.fit_transform(df[desired])\n",
    "\n",
    "#scale_df(cluster_df, ['timestamp', 'hour', 'day'])\n",
    "\n",
    "cluster_df = cluster_df.dropna()"
   ]
  },
  {
   "cell_type": "code",
   "execution_count": 20,
   "metadata": {},
   "outputs": [
    {
     "name": "stdout",
     "output_type": "stream",
     "text": [
      "[[8.66843931e-03 1.35723206e+00 8.86857482e+01 2.52765713e+01\n",
      "  1.24008923e+00]\n",
      " [7.96041417e+00 1.36757759e+00 1.01756969e+03 2.46741591e+01\n",
      "  5.18406841e-01]]\n",
      "[[8.66843931e-03 1.35723206e+00 8.86857482e+01 2.52765713e+01\n",
      "  1.24008923e+00]\n",
      " [8.13481187e+00 1.36893620e+00 9.46347266e+02 2.47443350e+01\n",
      "  5.00438150e-01]\n",
      " [6.83959431e+00 1.35884606e+00 1.47530223e+03 2.42231524e+01\n",
      "  6.33888096e-01]]\n",
      "[[8.13481187e+00 1.36893620e+00 9.46347266e+02 2.47443350e+01\n",
      "  5.00438150e-01]\n",
      " [2.04281037e-14 1.34206831e+00 2.95938122e-02 2.57981218e+01\n",
      "  1.37051462e+00]\n",
      " [6.83959431e+00 1.35884606e+00 1.47530223e+03 2.42231524e+01\n",
      "  6.33888096e-01]\n",
      " [1.26811951e-02 1.36425159e+00 1.29726065e+02 2.50351374e+01\n",
      "  1.17971328e+00]]\n",
      "[[6.97640826e+00 1.37695086e+00 9.03399634e+02 2.46208315e+01\n",
      "  4.99668392e-01]\n",
      " [1.26811951e-02 1.36425159e+00 1.29726065e+02 2.50351374e+01\n",
      "  1.17971328e+00]\n",
      " [6.78664068e+00 1.35872067e+00 1.48109169e+03 2.42159840e+01\n",
      "  6.35153885e-01]\n",
      " [2.04281037e-14 1.34206831e+00 2.95938122e-02 2.57981218e+01\n",
      "  1.37051462e+00]\n",
      " [9.61956400e+00 1.35868073e+00 1.00333745e+03 2.49000924e+01\n",
      "  5.02050769e-01]]\n",
      "[[7.99102221e+00 1.36960658e+00 1.33944932e+03 2.42985792e+01\n",
      "  6.19928625e-01]\n",
      " [1.26811951e-02 1.36425159e+00 1.29726065e+02 2.50351374e+01\n",
      "  1.17971328e+00]\n",
      " [6.78048921e+00 1.37769203e+00 8.96899963e+02 2.46265090e+01\n",
      "  4.97928194e-01]\n",
      " [2.04281037e-14 1.34206831e+00 2.95938122e-02 2.57981218e+01\n",
      "  1.37051462e+00]\n",
      " [6.29333833e+00 1.35155861e+00 1.54583050e+03 2.41889308e+01\n",
      "  6.36505798e-01]\n",
      " [9.44074244e+00 1.36040068e+00 9.90736973e+02 2.48661543e+01\n",
      "  5.01929023e-01]]\n",
      "[[1.26811951e-02 1.36425159e+00 1.29726065e+02 2.50351374e+01\n",
      "  1.17971328e+00]\n",
      " [8.12904840e+00 1.37393292e+00 9.43545742e+02 2.46034167e+01\n",
      "  5.00136959e-01]\n",
      " [6.29333833e+00 1.35155861e+00 1.54583050e+03 2.41889308e+01\n",
      "  6.36505798e-01]\n",
      " [2.04281037e-14 1.34206831e+00 2.95938122e-02 2.57981218e+01\n",
      "  1.37051462e+00]\n",
      " [6.11177430e+00 1.37912932e+00 8.74908087e+02 2.46973991e+01\n",
      "  4.96440394e-01]\n",
      " [1.00918065e+01 1.35176648e+00 1.01409585e+03 2.50075519e+01\n",
      "  5.03599534e-01]\n",
      " [7.93904169e+00 1.36963802e+00 1.34262226e+03 2.42860048e+01\n",
      "  6.20081108e-01]]\n",
      "[[8.11453600e+00 1.37381957e+00 9.42671190e+02 2.45935916e+01\n",
      "  4.99861280e-01]\n",
      " [1.26811951e-02 1.36425159e+00 1.29726065e+02 2.50351374e+01\n",
      "  1.17971328e+00]\n",
      " [6.94327664e+00 1.37192889e+00 1.42096520e+03 2.42016461e+01\n",
      "  6.34696279e-01]\n",
      " [2.04281037e-14 1.34206831e+00 2.95938122e-02 2.57981218e+01\n",
      "  1.37051462e+00]\n",
      " [6.10915429e+00 1.37911629e+00 8.74869322e+02 2.46970832e+01\n",
      "  4.96467201e-01]\n",
      " [1.00557898e+01 1.35245499e+00 1.01020703e+03 2.50205437e+01\n",
      "  5.02079693e-01]\n",
      " [9.51084518e+00 1.36704024e+00 1.23071865e+03 2.43929780e+01\n",
      "  6.02930992e-01]\n",
      " [6.16276632e+00 1.34437940e+00 1.56988083e+03 2.41945654e+01\n",
      "  6.33526065e-01]]\n",
      "[[8.10935377e+00 1.37414843e+00 9.42038942e+02 2.45871026e+01\n",
      "  4.99834518e-01]\n",
      " [1.26811951e-02 1.36425159e+00 1.29726065e+02 2.50351374e+01\n",
      "  1.17971328e+00]\n",
      " [6.48099439e+00 1.35869048e+00 1.50884201e+03 2.41488900e+01\n",
      "  6.28948039e-01]\n",
      " [2.04281037e-14 1.34206831e+00 2.95938122e-02 2.57981218e+01\n",
      "  1.37051462e+00]\n",
      " [9.64949042e+00 1.36467748e+00 1.20741833e+03 2.43746098e+01\n",
      "  5.95034472e-01]\n",
      " [6.08726386e+00 1.37903813e+00 8.74365918e+02 2.47037284e+01\n",
      "  4.96736543e-01]\n",
      " [1.00370265e+01 1.35221398e+00 1.00922233e+03 2.50219141e+01\n",
      "  5.01351615e-01]\n",
      " [5.99091168e+00 1.33749122e+00 1.61730900e+03 2.42778038e+01\n",
      "  6.48338589e-01]\n",
      " [7.18676784e+00 1.37252515e+00 1.38790833e+03 2.42379322e+01\n",
      "  6.30786154e-01]]\n"
     ]
    },
    {
     "data": {
      "text/plain": [
       "[<matplotlib.lines.Line2D at 0x21d07bde9d0>]"
      ]
     },
     "execution_count": 20,
     "metadata": {},
     "output_type": "execute_result"
    },
    {
     "data": {
      "image/png": "[encoded data removed]",
      "text/plain": [
       "<Figure size 432x288 with 1 Axes>"
      ]
     },
     "metadata": {
      "needs_background": "light"
     },
     "output_type": "display_data"
    }
   ],
   "source": [
    "from sklearn.metrics import silhouette_score\n",
    "from sklearn.cluster import KMeans\n",
    "\n",
    "data_df = cluster_df[['THDI A average [%]', 'THDU A average [%]', 'Reactive Power A average [kVAr]', 'temp','sound']]\n",
    "data_df = data_df.resample('10s').mean()\n",
    "#scale_df(data_df, ['timestamp', 'hour', 'day'])\n",
    "data_df = data_df.dropna()\n",
    "\n",
    "sillhoute_scores = []\n",
    "for n in range(2,10):\n",
    "    kmeans = KMeans(n_clusters = n)\n",
    "    cluster_found = kmeans.fit_predict(data_df)\n",
    "    sillhoute_scores.append(silhouette_score(data_df, kmeans.labels_))\n",
    "    print(kmeans.cluster_centers_)\n",
    "\n",
    "plt.plot([x for x in range(2,10)], sillhoute_scores)"
   ]
  },
  {
   "cell_type": "code",
   "execution_count": 21,
   "metadata": {},
   "outputs": [],
   "source": [
    "import pywt\n",
    "tdhi_a3, cD3, cD2, cD1 = pywt.wavedec(cluster_df['THDI A average [%]'], 'db1', level=3)\n",
    "tdhu_a3, cD3, cD2, cD1 = pywt.wavedec(cluster_df['THDI A average [%]'], 'db1', level=3)\n",
    "power_a3, cD3, cD2, cD1 = pywt.wavedec(cluster_df['Reactive Power A average [kVAr]'], 'db1', level=3)\n",
    "sound_a3, cD3, cD2, cD1 = pywt.wavedec(cluster_df['sound'], 'db1', level=3)\n",
    "temp_a3, cD3, cD2, cD1 = pywt.wavedec(cluster_df['temp'], 'db1', level=3)"
   ]
  },
  {
   "cell_type": "code",
   "execution_count": 22,
   "metadata": {},
   "outputs": [
    {
     "data": {
      "image/png": "[encoded data removed]",
      "text/plain": [
       "<Figure size 432x288 with 1 Axes>"
      ]
     },
     "metadata": {
      "needs_background": "light"
     },
     "output_type": "display_data"
    },
    {
     "data": {
      "image/png": "[encoded data removed]",
      "text/plain": [
       "<Figure size 432x288 with 1 Axes>"
      ]
     },
     "metadata": {
      "needs_background": "light"
     },
     "output_type": "display_data"
    }
   ],
   "source": [
    "plt.plot(tdhi_a3)\n",
    "plt.show()\n",
    "plt.plot(cluster_df['THDI A average [%]'])\n",
    "plt.show()"
   ]
  },
  {
   "cell_type": "code",
   "execution_count": 23,
   "metadata": {},
   "outputs": [
    {
     "data": {
      "image/png": "[encoded data removed]",
      "text/plain": [
       "<Figure size 432x288 with 1 Axes>"
      ]
     },
     "metadata": {
      "needs_background": "light"
     },
     "output_type": "display_data"
    },
    {
     "data": {
      "image/png": "[encoded data removed]",
      "text/plain": [
       "<Figure size 432x288 with 1 Axes>"
      ]
     },
     "metadata": {
      "needs_background": "light"
     },
     "output_type": "display_data"
    }
   ],
   "source": [
    "plt.plot(temp_a3)\n",
    "plt.show()\n",
    "plt.plot(cluster_df['temp'])\n",
    "plt.show()"
   ]
  },
  {
   "cell_type": "code",
   "execution_count": 24,
   "metadata": {},
   "outputs": [],
   "source": [
    "tdhidf = pd.DataFrame(tdhi_a3, columns = ['tdhi'])\n",
    "tdhudf = pd.DataFrame(tdhu_a3, columns = ['tdhu'])\n",
    "powerdf = pd.DataFrame(power_a3, columns = ['power'])\n",
    "tempdf = pd.DataFrame(temp_a3, columns = ['temp'])\n",
    "soundf = pd.DataFrame(sound_a3, columns = ['sound'])"
   ]
  },
  {
   "cell_type": "code",
   "execution_count": 25,
   "metadata": {},
   "outputs": [
    {
     "data": {
      "text/html": [
       "<div>\n",
       "<style scoped>\n",
       "    .dataframe tbody tr th:only-of-type {\n",
       "        vertical-align: middle;\n",
       "    }\n",
       "\n",
       "    .dataframe tbody tr th {\n",
       "        vertical-align: top;\n",
       "    }\n",
       "\n",
       "    .dataframe thead th {\n",
       "        text-align: right;\n",
       "    }\n",
       "</style>\n",
       "<table border=\"1\" class=\"dataframe\">\n",
       "  <thead>\n",
       "    <tr style=\"text-align: right;\">\n",
       "      <th></th>\n",
       "      <th>tdhi</th>\n",
       "      <th>tdhu</th>\n",
       "      <th>power</th>\n",
       "      <th>temp</th>\n",
       "      <th>sound</th>\n",
       "    </tr>\n",
       "  </thead>\n",
       "  <tbody>\n",
       "    <tr>\n",
       "      <th>0</th>\n",
       "      <td>0.0</td>\n",
       "      <td>0.0</td>\n",
       "      <td>355.375605</td>\n",
       "      <td>69.127423</td>\n",
       "      <td>2.657226</td>\n",
       "    </tr>\n",
       "    <tr>\n",
       "      <th>1</th>\n",
       "      <td>0.0</td>\n",
       "      <td>0.0</td>\n",
       "      <td>356.014476</td>\n",
       "      <td>69.097505</td>\n",
       "      <td>2.625847</td>\n",
       "    </tr>\n",
       "    <tr>\n",
       "      <th>2</th>\n",
       "      <td>0.0</td>\n",
       "      <td>0.0</td>\n",
       "      <td>363.827652</td>\n",
       "      <td>69.084812</td>\n",
       "      <td>2.664358</td>\n",
       "    </tr>\n",
       "    <tr>\n",
       "      <th>3</th>\n",
       "      <td>0.0</td>\n",
       "      <td>0.0</td>\n",
       "      <td>369.747550</td>\n",
       "      <td>68.959701</td>\n",
       "      <td>2.725974</td>\n",
       "    </tr>\n",
       "    <tr>\n",
       "      <th>4</th>\n",
       "      <td>0.0</td>\n",
       "      <td>0.0</td>\n",
       "      <td>367.339852</td>\n",
       "      <td>68.593433</td>\n",
       "      <td>2.769049</td>\n",
       "    </tr>\n",
       "    <tr>\n",
       "      <th>...</th>\n",
       "      <td>...</td>\n",
       "      <td>...</td>\n",
       "      <td>...</td>\n",
       "      <td>...</td>\n",
       "      <td>...</td>\n",
       "    </tr>\n",
       "    <tr>\n",
       "      <th>7921</th>\n",
       "      <td>0.0</td>\n",
       "      <td>0.0</td>\n",
       "      <td>0.000000</td>\n",
       "      <td>73.143713</td>\n",
       "      <td>3.731242</td>\n",
       "    </tr>\n",
       "    <tr>\n",
       "      <th>7922</th>\n",
       "      <td>0.0</td>\n",
       "      <td>0.0</td>\n",
       "      <td>0.000000</td>\n",
       "      <td>73.194484</td>\n",
       "      <td>3.736376</td>\n",
       "    </tr>\n",
       "    <tr>\n",
       "      <th>7923</th>\n",
       "      <td>0.0</td>\n",
       "      <td>0.0</td>\n",
       "      <td>0.000000</td>\n",
       "      <td>73.263387</td>\n",
       "      <td>3.612572</td>\n",
       "    </tr>\n",
       "    <tr>\n",
       "      <th>7924</th>\n",
       "      <td>0.0</td>\n",
       "      <td>0.0</td>\n",
       "      <td>0.000000</td>\n",
       "      <td>73.315971</td>\n",
       "      <td>3.714982</td>\n",
       "    </tr>\n",
       "    <tr>\n",
       "      <th>7925</th>\n",
       "      <td>0.0</td>\n",
       "      <td>0.0</td>\n",
       "      <td>0.000000</td>\n",
       "      <td>73.295119</td>\n",
       "      <td>3.767185</td>\n",
       "    </tr>\n",
       "  </tbody>\n",
       "</table>\n",
       "<p>7926 rows × 5 columns</p>\n",
       "</div>"
      ],
      "text/plain": [
       "      tdhi  tdhu       power       temp     sound\n",
       "0      0.0   0.0  355.375605  69.127423  2.657226\n",
       "1      0.0   0.0  356.014476  69.097505  2.625847\n",
       "2      0.0   0.0  363.827652  69.084812  2.664358\n",
       "3      0.0   0.0  369.747550  68.959701  2.725974\n",
       "4      0.0   0.0  367.339852  68.593433  2.769049\n",
       "...    ...   ...         ...        ...       ...\n",
       "7921   0.0   0.0    0.000000  73.143713  3.731242\n",
       "7922   0.0   0.0    0.000000  73.194484  3.736376\n",
       "7923   0.0   0.0    0.000000  73.263387  3.612572\n",
       "7924   0.0   0.0    0.000000  73.315971  3.714982\n",
       "7925   0.0   0.0    0.000000  73.295119  3.767185\n",
       "\n",
       "[7926 rows x 5 columns]"
      ]
     },
     "execution_count": 25,
     "metadata": {},
     "output_type": "execute_result"
    }
   ],
   "source": [
    "wvt_df = pd.merge(tdhidf, tdhudf, left_index=True, right_index=True)\n",
    "wvt_df = pd.merge(wvt_df, powerdf, left_index=True, right_index=True)\n",
    "wvt_df = pd.merge(wvt_df, tempdf, left_index=True, right_index=True)\n",
    "wvt_df = pd.merge(wvt_df, soundf, left_index=True, right_index=True)\n",
    "\n",
    "wvt_df"
   ]
  },
  {
   "cell_type": "code",
   "execution_count": 26,
   "metadata": {},
   "outputs": [
    {
     "data": {
      "text/plain": [
       "[<matplotlib.lines.Line2D at 0x21d08030340>]"
      ]
     },
     "execution_count": 26,
     "metadata": {},
     "output_type": "execute_result"
    },
    {
     "data": {
      "image/png": "[encoded data removed]",
      "text/plain": [
       "<Figure size 432x288 with 1 Axes>"
      ]
     },
     "metadata": {
      "needs_background": "light"
     },
     "output_type": "display_data"
    }
   ],
   "source": [
    "sillhoute_scores = []\n",
    "scale_df(wvt_df, ['timestamp', 'hour', 'day'])\n",
    "\n",
    "for n in range(2,10):\n",
    "    kmeans = KMeans(n_clusters = n)\n",
    "    cluster_found = kmeans.fit_predict(wvt_df)\n",
    "    sillhoute_scores.append(silhouette_score(wvt_df, kmeans.labels_))\n",
    "\n",
    "plt.plot([x for x in range(2,10)], sillhoute_scores)"
   ]
  }
 ],
 "metadata": {
  "kernelspec": {
   "display_name": "Python 3.9.7 ('base')",
   "language": "python",
   "name": "python3"
  },
  "language_info": {
   "codemirror_mode": {
    "name": "ipython",
    "version": 3
   },
   "file_extension": ".py",
   "mimetype": "text/x-python",
   "name": "python",
   "nbconvert_exporter": "python",
   "pygments_lexer": "ipython3",
   "version": "3.9.7"
  },
  "orig_nbformat": 4,
  "vscode": {
   "interpreter": {
    "hash": "2572ea1b1ef9c8d2ad1a91dec6289fcd3897516dc536ea19b4e38370c1a20702"
   }
  }
 },
 "nbformat": 4,
 "nbformat_minor": 2
}
