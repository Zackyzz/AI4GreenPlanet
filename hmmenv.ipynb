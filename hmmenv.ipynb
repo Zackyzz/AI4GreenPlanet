{
 "cells": [
  {
   "cell_type": "code",
   "execution_count": null,
   "metadata": {},
   "outputs": [],
   "source": [
    "import pandas as pd\n",
    "energy_data = pd.read_csv(\"Extra//energy.csv\")\n",
    "env_data = pd.read_csv(\"Extra//environment.csv\")\n",
    "\n",
    "energy_data.timestamp = pd.to_datetime(energy_data.timestamp, format='%Y-%m-%d %H:%M:%S')\n",
    "energy_data.index = energy_data.timestamp\n",
    "resampled_df = energy_data.resample(\"5s\").mean()\n",
    "resampled_df.head()"
   ]
  },
  {
   "cell_type": "code",
   "execution_count": null,
   "metadata": {},
   "outputs": [],
   "source": [
    "env_data.timestamp = pd.to_datetime(env_data.timestamp, format='%Y-%m-%d %H:%M:%S')\n",
    "env_data.index = env_data.timestamp\n",
    "resampled_env = env_data.resample(\"5s\").mean()\n",
    "resampled_env.head()"
   ]
  },
  {
   "cell_type": "code",
   "execution_count": null,
   "metadata": {},
   "outputs": [],
   "source": [
    "resampled_df['active_power'] = resampled_df[[\"Active Power A average [kW]\",\"Active Power B average [kW]\",\"Active Power C average [kW]\"]].mean(axis=1)\n",
    "resampled_df['thdi'] = resampled_df[[\"THDI A average [%]\",\"THDI B average [%]\",\"THDI C average [%]\"]].mean(axis=1)\n",
    "resampled_df['thdu'] = resampled_df[[\"THDU A average [%]\",\"THDU B average [%]\",\"THDU C average [%]\"]].mean(axis=1)\n",
    "resampled_df['current'] = resampled_df[[\"Current A average [A]\",\"Current B average [A]\",\"Current C average [A]\"]].mean(axis=1)\n",
    "resampled_df['power'] = resampled_df[[\"Power Factor A average\",\"Power Factor B average\",\"Power Factor C average\"]].mean(axis=1)\n",
    "resampled_df = resampled_df.join(resampled_env)\n",
    "\n",
    "useful_data = resampled_df[[\"active_power\",\"thdi\",\"thdu\", \"current\",\"power\",\"Xacc\",\"pitch\", \"yaw\"]]\n",
    "#useful_data = resampled_df[[\"Xacc\",\"pitch\", \"yaw\"]]\n",
    "useful_data = useful_data.dropna()\n",
    "useful_data.head()"
   ]
  },
  {
   "cell_type": "code",
   "execution_count": null,
   "metadata": {},
   "outputs": [],
   "source": [
    "from sklearn.preprocessing import StandardScaler\n",
    "scaler = StandardScaler()\n",
    "\n",
    "scaled_data = scaler.fit_transform(useful_data[useful_data.columns])\n",
    "\n",
    "from sklearn.preprocessing import MinMaxScaler\n",
    "scaler = MinMaxScaler()\n",
    "min_maxed = pd.DataFrame(scaler.fit_transform(useful_data.values), columns=useful_data.columns, index=useful_data.index)"
   ]
  },
  {
   "cell_type": "code",
   "execution_count": null,
   "metadata": {},
   "outputs": [],
   "source": [
    "\"\"\"\n",
    "from sklearn.mixture import BayesianGaussianMixture\n",
    "BGM = BayesianGaussianMixture(n_components = 5).fit(scaled_data)\n",
    "clusters = BGM.predict(scaled_data)\n",
    "min_maxed = useful_data.assign(states = clusters)\n",
    "min_maxed.insert(loc=0,column='Date', value=pd.to_datetime(min_maxed.index))\n",
    "\"\"\""
   ]
  },
  {
   "cell_type": "code",
   "execution_count": null,
   "metadata": {},
   "outputs": [],
   "source": [
    "from hmmlearn import hmm\n",
    "import numpy as np\n",
    "np.random.seed(33)\n",
    "\n",
    "model = hmm.GaussianHMM(n_components = 5)\n",
    "model.fit(scaled_data)\n",
    "hidden_states = model.predict(scaled_data)\n",
    "min_maxed = useful_data.assign(states = hidden_states)\n",
    "min_maxed.insert(loc=0,column='Date', value=pd.to_datetime(min_maxed.index))"
   ]
  },
  {
   "cell_type": "code",
   "execution_count": null,
   "metadata": {},
   "outputs": [],
   "source": [
    "new_df = min_maxed.loc['2022-11-08 14:00:00':'2022-11-08 16:00:00']\n",
    "new_df['colors'] = new_df['states'].map({0:'Off', 1: 'Mode-2', 2: 'Extra', 3: 'Mode-1', 4:'On', 5:'Moving',\n",
    "                                         6: 'Extra1', 7: 'Extra2'})\n",
    "color_map = {\"Off\": \"blue\", \"Extra\": \"yellow\", \"On\": \"green\", \"Mode-1\" : \"magenta\", \"Mode-2\": \"orange\", \"Moving\": \"cyan\",\n",
    "             \"Extra1\": \"black\", \"Extra2\": \"white\"}\n",
    "\n",
    "import plotly.express as px\n",
    "import plotly.graph_objects as go\n",
    "\n",
    "fig1 = px.line(new_df, x = 'Date', y = 'current')\n",
    "fig1.update_traces(line=dict(color = 'black'))\n",
    "fig2 = px.scatter(new_df, x = 'Date', y = 'Xacc', color='colors')\n",
    "fig2.update_traces(marker=dict(size=4))\n",
    "fig3 = go.Figure(data=fig1.data).update_layout(xaxis_title=\"Time\", yaxis_title=\"Current average [A]\")\n",
    "\n",
    "#start background\n",
    "start_mode = str(new_df.iloc[0][\"colors\"])\n",
    "start_date = str(new_df.iloc[0][\"Date\"])\n",
    "\n",
    "for index, row in new_df.iterrows():\n",
    "    current_mode = row[\"colors\"]\n",
    "    if current_mode != start_mode:\n",
    "        fig3.add_vrect(x0=start_date, x1=str(row[\"Date\"]), fillcolor=color_map[start_mode], opacity=0.5)\n",
    "        start_mode = row[\"colors\"]\n",
    "        start_date = str(row[\"Date\"])\n",
    "\n",
    "fig3.add_vrect(x0=start_date, x1=str(new_df.iloc[-1][\"Date\"]), fillcolor=color_map[start_mode], opacity=0.5)\n",
    "fig3.update_layout(xaxis=dict(showgrid=False), yaxis=dict(showgrid=False))\n",
    "#end background\n",
    "\n",
    "fig3.show()"
   ]
  }
 ],
 "metadata": {
  "kernelspec": {
   "display_name": "base",
   "language": "python",
   "name": "python3"
  },
  "language_info": {
   "codemirror_mode": {
    "name": "ipython",
    "version": 3
   },
   "file_extension": ".py",
   "mimetype": "text/x-python",
   "name": "python",
   "nbconvert_exporter": "python",
   "pygments_lexer": "ipython3",
   "version": "3.9.7"
  },
  "orig_nbformat": 4,
  "vscode": {
   "interpreter": {
    "hash": "2572ea1b1ef9c8d2ad1a91dec6289fcd3897516dc536ea19b4e38370c1a20702"
   }
  }
 },
 "nbformat": 4,
 "nbformat_minor": 2
}
