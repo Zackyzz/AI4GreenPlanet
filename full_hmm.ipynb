{
 "cells": [
  {
   "cell_type": "code",
   "execution_count": null,
   "metadata": {},
   "outputs": [],
   "source": [
    "import pandas as pd\n",
    "\n",
    "energy_data = pd.read_csv(\"Extra//energy.csv\")\n",
    "energy_data['timestamp'] = pd.to_datetime(energy_data['timestamp'])\n",
    "energy_data.set_index('timestamp', inplace=True)\n",
    "resampled_energy = energy_data.resample(\"5s\").mean()\n",
    "resampled_energy = resampled_energy.fillna(method='ffill')\n",
    "resampled_energy = resampled_energy.fillna(method='bfill')\n",
    "\n",
    "env_data = pd.read_csv(\"Extra//environment.csv\")\n",
    "env_data['timestamp'] = pd.to_datetime(env_data['timestamp'])\n",
    "env_data.set_index('timestamp', inplace=True)\n",
    "resampled_env = env_data.resample(\"5s\").mean()\n",
    "resampled_env = resampled_env.fillna(method='ffill')\n",
    "resampled_env = resampled_env.fillna(method='bfill')\n",
    "\n",
    "resampled_energy['reactive_power'] = resampled_energy[[\"Reactive Power A average [kVAr]\",\"Reactive Power B average [kVAr]\",\"Reactive Power C average [kVAr]\"]].mean(axis=1)\n",
    "resampled_energy['thdi'] = resampled_energy[[\"THDI A average [%]\",\"THDI B average [%]\",\"THDI C average [%]\"]].mean(axis=1)\n",
    "resampled_energy['thdu'] = resampled_energy[[\"THDU A average [%]\",\"THDU B average [%]\",\"THDU C average [%]\"]].mean(axis=1)\n",
    "resampled_energy['current'] = resampled_energy[[\"Current A average [A]\",\"Current B average [A]\",\"Current C average [A]\"]].mean(axis=1)\n",
    "resampled_energy['voltage'] = resampled_energy[[\"Voltage A average [V]\",\"Voltage B average [V]\",\"Voltage C average [V]\"]].mean(axis=1)\n",
    "resampled_energy['power_factor'] = resampled_energy[[\"Power Factor A average\",\"Power Factor B average\",\"Power Factor C average\"]].mean(axis=1)\n",
    "useful_data = resampled_energy.join(resampled_env)\n",
    "useful_data = useful_data[[\"reactive_power\",\"power_factor\",\"current\",\"voltage\",\"thdu\",\"thdi\",\"Xacc\",\"yaw\",\"pitch\"]]\n",
    "useful_data = useful_data.dropna()\n",
    "display(useful_data)"
   ]
  },
  {
   "cell_type": "code",
   "execution_count": null,
   "metadata": {},
   "outputs": [],
   "source": [
    "from sklearn.preprocessing import StandardScaler\n",
    "scaler = StandardScaler()\n",
    "scaled_data = scaler.fit_transform(useful_data[useful_data.columns])"
   ]
  },
  {
   "cell_type": "code",
   "execution_count": null,
   "metadata": {},
   "outputs": [],
   "source": [
    "# find the optimal number of clusters\n",
    "# when uncommenting this, use the model (from below) as:\n",
    "# model = hmm.GaussianHMM(n_components = n_states_range[np.argmax(mdl_scores)], covariance_type='diag')\n",
    "\n",
    "\"\"\"from hmmlearn import hmm\n",
    "import numpy as np\n",
    "#np.random.seed(87)\n",
    "import matplotlib.pyplot as plt\n",
    "\n",
    "def mdl_score(model, data):\n",
    "    n_features = data.shape[1]\n",
    "    n_states = model.n_components\n",
    "    \n",
    "    n_transition_params = n_states * (n_states - 1)\n",
    "    n_emission_params = n_states * n_features\n",
    "    n_initial_state_params = n_states - 1\n",
    "    n_params = n_transition_params + n_emission_params + n_initial_state_params\n",
    "    \n",
    "    adjusted_bic = model.score(data) - np.square(n_params) * np.log(data.shape[0])\n",
    "    return adjusted_bic\n",
    "\n",
    "n_states_range = range(4, 9)\n",
    "mdl_scores = []\n",
    "\n",
    "for n_states in n_states_range:\n",
    "    mdl_scores_n_states = []\n",
    "\n",
    "    for run in range(10):\n",
    "        model = hmm.GaussianHMM(n_components=n_states, covariance_type='diag')\n",
    "        model.fit(scaled_data)\n",
    "        mdl = mdl_score(model, scaled_data)\n",
    "        mdl_scores_n_states.append(mdl)\n",
    "\n",
    "    avg_mdl = np.mean(mdl_scores_n_states)\n",
    "    print(n_states)\n",
    "    print(avg_mdl)\n",
    "    mdl_scores.append(avg_mdl)\n",
    "\n",
    "plt.figure(figsize=(8, 6))\n",
    "plt.plot(n_states_range, mdl_scores, marker='o', linestyle='-', linewidth=2)\n",
    "plt.xlabel(\"Number of hidden states\")\n",
    "plt.ylabel(\"Average ABIC score\")\n",
    "plt.grid()\n",
    "plt.show()\"\"\""
   ]
  },
  {
   "cell_type": "code",
   "execution_count": null,
   "metadata": {},
   "outputs": [],
   "source": [
    "from hmmlearn import hmm\n",
    "import numpy as np\n",
    "np.random.seed(33)\n",
    "\n",
    "#model = hmm.GaussianHMM(n_components = n_states_range[np.argmax(mdl_scores)], covariance_type='diag')\n",
    "model = hmm.GaussianHMM(n_components = 5, covariance_type='diag')\n",
    "model.fit(scaled_data)\n",
    "hidden_states = model.predict(scaled_data)"
   ]
  },
  {
   "cell_type": "code",
   "execution_count": null,
   "metadata": {},
   "outputs": [],
   "source": [
    "from sklearn.preprocessing import MinMaxScaler\n",
    "scaler = MinMaxScaler()\n",
    "normalized_plot_data = pd.DataFrame(scaler.fit_transform(useful_data.values), columns=useful_data.columns, index=useful_data.index)\n",
    "\n",
    "normalized_plot_data = normalized_plot_data.assign(states = hidden_states)\n",
    "normalized_plot_data.insert(loc=0, column='Date', value=pd.to_datetime(normalized_plot_data.index))\n",
    "normalized_plot_data['modes'] = normalized_plot_data['states'].map({0:'Offline', 1: 'InMotion', 2: 'Mode2', 3: 'Online', 4:'Mode1'})\n",
    "color_map = {\"Offline\": \"black\", \"InMotion\": \"Green\", \"Online\": \"white\", \"Mode1\": \"yellow\", \"Mode2\" : \"magenta\"}"
   ]
  },
  {
   "cell_type": "code",
   "execution_count": null,
   "metadata": {},
   "outputs": [],
   "source": [
    "import plotly.express as px\n",
    "import plotly.graph_objects as go\n",
    "\n",
    "plot_data = normalized_plot_data.loc['2022-11-16 13:50:00':'2022-11-16 16:10:00']\n",
    "\n",
    "fig = px.line(plot_data, x='Date', y='current')\n",
    "fig.update_traces(line=dict(color='black'))\n",
    "fig.update_layout(xaxis_title=\"Time\", yaxis_title=\"Current average [A]\", xaxis=dict(showgrid=False), yaxis=dict(showgrid=False))\n",
    "\n",
    "#start background\n",
    "start_mode = str(plot_data.iloc[0][\"modes\"])\n",
    "start_date = str(plot_data.iloc[0][\"Date\"])\n",
    "\n",
    "for index, row in plot_data.iterrows():\n",
    "    current_mode = row[\"modes\"]\n",
    "    if current_mode != start_mode:\n",
    "        fig.add_vrect(x0=start_date, x1=str(row[\"Date\"]), fillcolor=color_map[start_mode], opacity=0.5)\n",
    "        start_mode = row[\"modes\"]\n",
    "        start_date = str(row[\"Date\"])\n",
    "\n",
    "fig.add_vrect(x0=start_date, x1=str(plot_data.iloc[-1][\"Date\"]), fillcolor=color_map[start_mode], opacity=0.5)\n",
    "for state, color in color_map.items():\n",
    "    fig.add_trace(go.Scatter(x=[None], y=[None],\n",
    "                             mode='markers',\n",
    "                             marker=dict(size=10, color=color),\n",
    "                             name=state))\n",
    "\n",
    "#end background\n",
    "fig.update_layout(height=600,width=1000)\n",
    "fig.write_image(\"clusters_2.png\")\n",
    "fig.show()"
   ]
  },
  {
   "cell_type": "code",
   "execution_count": null,
   "metadata": {},
   "outputs": [],
   "source": [
    "#get anomalies\n",
    "log_probability = model._compute_log_likelihood(scaled_data)\n",
    "likelihoods = np.sum(np.exp(log_probability), axis=1)\n",
    "threshold = np.percentile(likelihoods, 1)\n",
    "anomalies = np.where(likelihoods < threshold)[0]\n",
    "#write anomalies to csv\n",
    "normalized_plot_data.reset_index(inplace=True)\n",
    "normalized_plot_data['Anomaly'] = 'No'\n",
    "normalized_plot_data.loc[anomalies,'Anomaly'] = 'Yes'\n",
    "normalized_plot_data.set_index('timestamp', inplace=True)\n",
    "normalized_plot_data[['Date', 'modes', 'Anomaly']].to_csv('hmm_anomalies.csv', index=False)"
   ]
  },
  {
   "cell_type": "code",
   "execution_count": null,
   "metadata": {},
   "outputs": [],
   "source": [
    "for anomaly in anomalies[:15]:\n",
    "    df = normalized_plot_data.loc[str(useful_data.iloc[anomaly-100].name):str(useful_data.iloc[anomaly+100].name)]\n",
    "    line_fig = px.line(df, x = 'Date', y = useful_data.columns)\n",
    "    line_fig.update_traces(line=dict(color = 'black'), visible='legendonly')\n",
    "    fig = go.Figure(data=line_fig.data)\n",
    "    fig.update_layout(xaxis_title='Time', yaxis_title='MinMaxed Data', xaxis=dict(showgrid=False), yaxis=dict(showgrid=False))\n",
    "\n",
    "    #start background\n",
    "    start_mode = str(df.iloc[0][\"modes\"])\n",
    "    start_date = str(df.iloc[0][\"Date\"])\n",
    "\n",
    "    for index, row in df.iterrows():\n",
    "        current_mode = row[\"modes\"]\n",
    "        if current_mode != start_mode:\n",
    "            fig.add_vrect(x0=start_date, x1=str(row[\"Date\"]), fillcolor=color_map[start_mode], opacity=0.5)\n",
    "            start_mode = row[\"modes\"]\n",
    "            start_date = str(row[\"Date\"])\n",
    "\n",
    "    fig.add_vrect(x0=start_date, x1=str(df.iloc[-1][\"Date\"]), fillcolor=color_map[start_mode], opacity=0.5)\n",
    "    #end background and highlight anomaly\n",
    "    fig.add_vrect(x0=str(useful_data.iloc[anomaly-1].name), x1=str(useful_data.iloc[anomaly+1].name), fillcolor=\"red\", opacity=0.5)\n",
    "\n",
    "    fig.show()"
   ]
  }
 ],
 "metadata": {
  "kernelspec": {
   "display_name": "base",
   "language": "python",
   "name": "python3"
  },
  "language_info": {
   "codemirror_mode": {
    "name": "ipython",
    "version": 3
   },
   "file_extension": ".py",
   "mimetype": "text/x-python",
   "name": "python",
   "nbconvert_exporter": "python",
   "pygments_lexer": "ipython3",
   "version": "3.9.13"
  },
  "orig_nbformat": 4,
  "vscode": {
   "interpreter": {
    "hash": "2572ea1b1ef9c8d2ad1a91dec6289fcd3897516dc536ea19b4e38370c1a20702"
   }
  }
 },
 "nbformat": 4,
 "nbformat_minor": 2
}
