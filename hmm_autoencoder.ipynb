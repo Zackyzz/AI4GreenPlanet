{
 "cells": [
  {
   "cell_type": "code",
   "execution_count": null,
   "metadata": {},
   "outputs": [],
   "source": [
    "import pandas as pd\n",
    "energy_data = pd.read_csv(\"Extra//energy.csv\")\n",
    "\n",
    "energy_data.timestamp = pd.to_datetime(energy_data.timestamp, format='%Y-%m-%d %H:%M:%S')\n",
    "energy_data.index = energy_data.timestamp\n",
    "resampled_df = energy_data.resample(\"5s\").mean()\n",
    "resampled_df.head()"
   ]
  },
  {
   "cell_type": "code",
   "execution_count": null,
   "metadata": {},
   "outputs": [],
   "source": [
    "resampled_df['reactive_power'] = resampled_df[[\"Reactive Power A average [kVAr]\",\"Reactive Power B average [kVAr]\",\"Reactive Power C average [kVAr]\"]].mean(axis=1)\n",
    "resampled_df['active_power'] = resampled_df[[\"Active Power A average [kW]\",\"Active Power B average [kW]\",\"Active Power C average [kW]\"]].mean(axis=1)\n",
    "resampled_df['thdi'] = resampled_df[[\"THDI A average [%]\",\"THDI B average [%]\",\"THDI C average [%]\"]].mean(axis=1)\n",
    "resampled_df['thdu'] = resampled_df[[\"THDU A average [%]\",\"THDU B average [%]\",\"THDU C average [%]\"]].mean(axis=1)\n",
    "resampled_df['current'] = resampled_df[[\"Current A average [A]\",\"Current B average [A]\",\"Current C average [A]\"]].mean(axis=1)\n",
    "resampled_df['power'] = resampled_df[[\"Power Factor A average\",\"Power Factor B average\",\"Power Factor C average\"]].mean(axis=1)\n",
    "useful_data = resampled_df[[\"reactive_power\",\"active_power\",\"thdi\",\"thdu\", \"current\",\"power\"]]\n",
    "useful_data = useful_data.dropna()\n",
    "useful_data"
   ]
  },
  {
   "cell_type": "code",
   "execution_count": null,
   "metadata": {},
   "outputs": [],
   "source": [
    "from sklearn.preprocessing import StandardScaler\n",
    "scaler = StandardScaler()\n",
    "\n",
    "scaled_data = scaler.fit_transform(useful_data[useful_data.columns])\n",
    "scaled_data"
   ]
  },
  {
   "cell_type": "code",
   "execution_count": null,
   "metadata": {},
   "outputs": [],
   "source": [
    "from hmmlearn import hmm\n",
    "import numpy as np\n",
    "np.random.seed(33)\n",
    "\n",
    "model = hmm.GaussianHMM(n_components = 6)\n",
    "model.fit(scaled_data)\n",
    "hidden_states = model.predict(scaled_data)\n",
    "relevant_data = useful_data.assign(states = hidden_states)\n",
    "relevant_data.insert(loc=0,column='Date', value=pd.to_datetime(relevant_data.index))\n",
    "relevant_data"
   ]
  },
  {
   "cell_type": "code",
   "execution_count": null,
   "metadata": {},
   "outputs": [],
   "source": [
    "new_df = relevant_data.loc['2022-11-08 14:00:00':'2022-11-08 16:00:00']\n",
    "new_df['colors'] = new_df['states'].map({0:'Extra', 1: 'Moving', 2: 'On', 3: 'Off', 4:'Mode-2', 5:'Mode-1'})\n",
    "color_map = {\"Off\": \"black\", \"Extra\": \"cyan\", \"On\": \"white\", \"Mode-1\" : \"red\", \"Mode-2\": \"yellow\", \"Moving\": \"green\"}\n",
    "\n",
    "import plotly.express as px\n",
    "import plotly.graph_objects as go\n",
    "\n",
    "fig1 = px.line(new_df, x = 'Date', y = 'current')\n",
    "fig1.update_traces(line=dict(color = 'black'))\n",
    "fig2 = px.scatter(new_df, x = 'Date', y = 'current', color='colors')\n",
    "fig2.update_traces(marker=dict(size=4))\n",
    "fig3 = go.Figure(data=fig1.data).update_layout(xaxis_title=\"Time\", yaxis_title=\"Current average [A]\")\n",
    "\n",
    "#start background\n",
    "start_mode = str(new_df.iloc[0][\"colors\"])\n",
    "start_date = str(new_df.iloc[0][\"Date\"])\n",
    "\n",
    "for index, row in new_df.iterrows():\n",
    "    current_mode = row[\"colors\"]\n",
    "    if current_mode != start_mode:\n",
    "        fig3.add_vrect(x0=start_date, x1=str(row[\"Date\"]), fillcolor=color_map[start_mode], opacity=0.5)\n",
    "        start_mode = row[\"colors\"]\n",
    "        start_date = str(row[\"Date\"])\n",
    "\n",
    "fig3.add_vrect(x0=start_date, x1=str(new_df.iloc[-1][\"Date\"]), fillcolor=color_map[start_mode], opacity=0.5)\n",
    "fig3.update_layout(xaxis=dict(showgrid=False), yaxis=dict(showgrid=False))\n",
    "#end background\n",
    "\n",
    "fig3.show()"
   ]
  },
  {
   "cell_type": "code",
   "execution_count": null,
   "metadata": {},
   "outputs": [],
   "source": [
    "#get data\n",
    "energy_data = pd.read_csv(\"Extra//energy.csv\")\n",
    "energy_data.timestamp = pd.to_datetime(energy_data.timestamp, format='%Y-%m-%d %H:%M:%S')\n",
    "energy_data.index = energy_data.timestamp\n",
    "resampled_energy = energy_data.resample(\"5s\").mean()\n",
    "\n",
    "env_data = pd.read_csv(\"Extra//environment.csv\")\n",
    "env_data.timestamp = pd.to_datetime(env_data.timestamp, format='%Y-%m-%d %H:%M:%S')\n",
    "env_data.index = env_data.timestamp\n",
    "resampled_env = env_data.resample(\"5s\").mean()\n",
    "\n",
    "#preprocess data\n",
    "resampled_energy['reactive_power'] = resampled_energy[[\"Reactive Power A average [kVAr]\",\"Reactive Power B average [kVAr]\",\"Reactive Power C average [kVAr]\"]].mean(axis=1)\n",
    "resampled_energy['thdi'] = resampled_energy[[\"THDI A average [%]\",\"THDI B average [%]\",\"THDI C average [%]\"]].mean(axis=1)\n",
    "resampled_energy['thdu'] = resampled_energy[[\"THDU A average [%]\",\"THDU B average [%]\",\"THDU C average [%]\"]].mean(axis=1)\n",
    "resampled_energy['current'] = resampled_energy[[\"Current A average [A]\",\"Current B average [A]\",\"Current C average [A]\"]].mean(axis=1)\n",
    "resampled_energy['power_factor'] = resampled_energy[[\"Power Factor A average\",\"Power Factor B average\",\"Power Factor C average\"]].mean(axis=1)\n",
    "useful_data = resampled_energy.join(resampled_env)\n",
    "useful_data = useful_data[[\"thdi\",\"Xacc\",\"pitch\"]]\n",
    "#useful_data = useful_data.drop([\"THDI A average [%]\",\"THDI B average [%]\",\"THDI C average [%]\",\"thdi\",\"Xacc\",\"pitch\"], axis=1)\n",
    "useful_data = useful_data.dropna()\n",
    "useful_data = useful_data.iloc[:-(10 + (useful_data.shape[0] % 10))]\n",
    "\n",
    "#scale data\n",
    "from sklearn.preprocessing import StandardScaler\n",
    "standard_scaler = StandardScaler()\n",
    "\n",
    "scaled_data = standard_scaler.fit_transform(useful_data)\n",
    "reshaped_scaled_data = scaled_data.reshape(scaled_data.shape[0]//10, 10, scaled_data.shape[1])\n",
    "reshaped_scaled_data.shape\n",
    "\n",
    "#autoencoder LSTM\n",
    "from keras.layers import Input, LSTM, RepeatVector\n",
    "from keras.models import Model\n",
    "\n",
    "input_shape = (reshaped_scaled_data.shape[1], reshaped_scaled_data.shape[2])\n",
    "encoding_dim = 100\n",
    "inputs = Input(shape=input_shape)\n",
    "encoded = LSTM(encoding_dim, activation='relu')(inputs)\n",
    "\n",
    "decoded = RepeatVector(input_shape[0])(encoded)\n",
    "decoded = LSTM(input_shape[1], activation='relu', return_sequences=True)(decoded)\n",
    "\n",
    "autoencoder = Model(inputs, decoded)\n",
    "autoencoder.compile(optimizer='adam', loss='mse')\n",
    "\n",
    "autoencoder.fit(reshaped_scaled_data, reshaped_scaled_data, epochs=16, batch_size=32)\n",
    "predictions = autoencoder.predict(reshaped_scaled_data)\n",
    "predictions = predictions.reshape(predictions.shape[0]*predictions.shape[1], predictions.shape[2])"
   ]
  },
  {
   "cell_type": "markdown",
   "metadata": {},
   "source": []
  },
  {
   "cell_type": "code",
   "execution_count": null,
   "metadata": {},
   "outputs": [],
   "source": [
    "#get anomalies\n",
    "mse = np.square(np.subtract(scaled_data, predictions))\n",
    "anomalies = np.where(mse > 500)\n",
    "anomalies"
   ]
  },
  {
   "cell_type": "code",
   "execution_count": null,
   "metadata": {},
   "outputs": [],
   "source": [
    "import plotly.express as px\n",
    "import plotly.graph_objects as go\n",
    "\n",
    "from sklearn.preprocessing import MinMaxScaler\n",
    "scaler = MinMaxScaler()\n",
    "plot_df = pd.DataFrame(scaler.fit_transform(useful_data.values), columns=useful_data.columns, index=useful_data.index)\n",
    "\n",
    "for i in list(zip(anomalies[0],anomalies[1]))[:30]:\n",
    "    anomaly = i[0]\n",
    "    bg_df = relevant_data.loc[str(useful_data.iloc[anomaly-100].name):str(useful_data.iloc[anomaly+100].name)]\n",
    "    new_df = plot_df.loc[str(useful_data.iloc[anomaly-100].name):str(useful_data.iloc[anomaly+100].name)]\n",
    "    new_df.insert(loc=0,column='Date', value=pd.to_datetime(new_df.index))\n",
    "\n",
    "    line_fig = px.line(new_df, x = 'Date', y = useful_data.columns[i[1]])\n",
    "    line_fig.update_traces(line=dict(color = 'black'))\n",
    "    fig = go.Figure(data=line_fig.data).update_layout(xaxis_title=\"Time\", yaxis_title=useful_data.columns[i[1]])\n",
    "\n",
    "    bg_df['colors'] = bg_df['states'].map({0:'Extra', 1: 'Moving', 2: 'On', 3: 'Off', 4:'Mode-2', 5:'Mode-1'})\n",
    "    color_map = {\"Off\": \"black\", \"Extra\": \"cyan\", \"On\": \"white\", \"Mode-1\" : \"red\", \"Mode-2\": \"yellow\", \"Moving\": \"green\"}\n",
    "    \n",
    "    #start background\n",
    "    start_mode = str(bg_df.iloc[0][\"colors\"])\n",
    "    start_date = str(bg_df.iloc[0][\"Date\"])\n",
    "\n",
    "    for index, row in bg_df.iterrows():\n",
    "        current_mode = row[\"colors\"]\n",
    "        if current_mode != start_mode:\n",
    "            fig.add_vrect(x0=start_date, x1=str(row[\"Date\"]), fillcolor=color_map[start_mode], opacity=0.5)\n",
    "            start_mode = row[\"colors\"]\n",
    "            start_date = str(row[\"Date\"])\n",
    "\n",
    "    fig.add_vrect(x0=start_date, x1=str(bg_df.iloc[-1][\"Date\"]), fillcolor=color_map[start_mode], opacity=0.5)\n",
    "\n",
    "    fig.add_vrect(x0=str(useful_data.iloc[anomaly-5].name),x1=str(useful_data.iloc[anomaly-3].name),fillcolor=\"black\", opacity=1)\n",
    "    fig.add_vrect(x0=str(useful_data.iloc[anomaly+4].name),x1=str(useful_data.iloc[anomaly+6].name),fillcolor=\"black\", opacity=1)\n",
    "    #fig.add_vrect(x0=str(useful_data.iloc[anomaly].name),x1=str(useful_data.iloc[anomaly+1].name),fillcolor=\"black\", opacity=0.5)\n",
    "    #end background\n",
    "\n",
    "    fig.update_layout(xaxis=dict(showgrid=False), yaxis=dict(showgrid=False))\n",
    "    fig.show()"
   ]
  }
 ],
 "metadata": {
  "kernelspec": {
   "display_name": "base",
   "language": "python",
   "name": "python3"
  },
  "language_info": {
   "codemirror_mode": {
    "name": "ipython",
    "version": 3
   },
   "file_extension": ".py",
   "mimetype": "text/x-python",
   "name": "python",
   "nbconvert_exporter": "python",
   "pygments_lexer": "ipython3",
   "version": "3.9.13"
  },
  "orig_nbformat": 4,
  "vscode": {
   "interpreter": {
    "hash": "2572ea1b1ef9c8d2ad1a91dec6289fcd3897516dc536ea19b4e38370c1a20702"
   }
  }
 },
 "nbformat": 4,
 "nbformat_minor": 2
}
