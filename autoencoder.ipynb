{
 "cells": [
  {
   "cell_type": "code",
   "execution_count": null,
   "metadata": {},
   "outputs": [],
   "source": [
    "import pandas as pd\n",
    "import numpy as np\n",
    "\n",
    "energy_data = pd.read_csv(\"Extra//energy.csv\")\n",
    "energy_data.timestamp = pd.to_datetime(energy_data.timestamp, format='%Y-%m-%d %H:%M:%S')\n",
    "energy_data.index = energy_data.timestamp\n",
    "resampled_energy = energy_data.resample(\"5s\").mean()\n",
    "\n",
    "env_data = pd.read_csv(\"Extra//environment.csv\")\n",
    "env_data.timestamp = pd.to_datetime(env_data.timestamp, format='%Y-%m-%d %H:%M:%S')\n",
    "env_data.index = env_data.timestamp\n",
    "resampled_env = env_data.resample(\"5s\").mean()"
   ]
  },
  {
   "cell_type": "code",
   "execution_count": null,
   "metadata": {},
   "outputs": [],
   "source": [
    "resampled_energy['reactive_power'] = resampled_energy[[\"Reactive Power A average [kVAr]\",\"Reactive Power B average [kVAr]\",\"Reactive Power C average [kVAr]\"]].mean(axis=1)\n",
    "resampled_energy['thdi'] = resampled_energy[[\"THDI A average [%]\",\"THDI B average [%]\",\"THDI C average [%]\"]].mean(axis=1)\n",
    "resampled_energy['thdu'] = resampled_energy[[\"THDU A average [%]\",\"THDU B average [%]\",\"THDU C average [%]\"]].mean(axis=1)\n",
    "resampled_energy['current'] = resampled_energy[[\"Current A average [A]\",\"Current B average [A]\",\"Current C average [A]\"]].mean(axis=1)\n",
    "resampled_energy['power_factor'] = resampled_energy[[\"Power Factor A average\",\"Power Factor B average\",\"Power Factor C average\"]].mean(axis=1)\n",
    "useful_data = resampled_energy.join(resampled_env)\n",
    "useful_data = useful_data[[\"reactive_power\", \"thdi\", \"thdu\", \"current\",\"Xacc\", \"pitch\",\"yaw\",\"sound\"]]\n",
    "useful_data = useful_data.dropna()\n",
    "useful_data = useful_data.iloc[:-(useful_data.shape[0] % 10)]\n",
    "useful_data"
   ]
  },
  {
   "cell_type": "code",
   "execution_count": null,
   "metadata": {},
   "outputs": [],
   "source": [
    "from sklearn.preprocessing import StandardScaler\n",
    "standard_scaler = StandardScaler()\n",
    "\n",
    "scaled_data = standard_scaler.fit_transform(useful_data)\n",
    "reshaped_scaled_data = scaled_data.reshape(scaled_data.shape[0]//10, 10, scaled_data.shape[1])\n",
    "reshaped_scaled_data.shape"
   ]
  },
  {
   "cell_type": "code",
   "execution_count": null,
   "metadata": {},
   "outputs": [],
   "source": [
    "from keras.layers import Input, LSTM, RepeatVector\n",
    "from keras.models import Model\n",
    "\n",
    "\n",
    "input_shape = (reshaped_scaled_data.shape[1], reshaped_scaled_data.shape[2])\n",
    "encoding_dim = 64\n",
    "inputs = Input(shape=input_shape)\n",
    "encoded = LSTM(encoding_dim, activation='relu')(inputs)\n",
    "\n",
    "decoded = RepeatVector(input_shape[0])(encoded)\n",
    "decoded = LSTM(input_shape[1], activation='relu', return_sequences=True)(decoded)\n",
    "\n",
    "autoencoder = Model(inputs, decoded)\n",
    "autoencoder.compile(optimizer='adam', loss='mse')\n",
    "\n",
    "autoencoder.fit(reshaped_scaled_data, reshaped_scaled_data, epochs=32, batch_size=64)\n",
    "predictions = autoencoder.predict(reshaped_scaled_data)\n",
    "predictions = predictions.reshape(predictions.shape[0]*predictions.shape[1], predictions.shape[2])"
   ]
  },
  {
   "cell_type": "code",
   "execution_count": null,
   "metadata": {},
   "outputs": [],
   "source": [
    "mse = np.square(np.subtract(scaled_data, predictions))\n",
    "anomalies = np.where(mse > 500)\n",
    "anomalies"
   ]
  },
  {
   "cell_type": "code",
   "execution_count": null,
   "metadata": {},
   "outputs": [],
   "source": [
    "import plotly.express as px\n",
    "import plotly.graph_objects as go\n",
    "\n",
    "from sklearn.preprocessing import MinMaxScaler\n",
    "scaler = MinMaxScaler()\n",
    "plot_df = pd.DataFrame(scaler.fit_transform(useful_data.values), columns=useful_data.columns, index=useful_data.index)\n",
    "\n",
    "for i in list(zip(anomalies[0],anomalies[1]))[:10]:\n",
    "    anomaly = i[0]\n",
    "    new_df = plot_df.loc[str(useful_data.iloc[anomaly-100].name):str(useful_data.iloc[anomaly+100].name)]\n",
    "    new_df.insert(loc=0,column='Date', value=pd.to_datetime(new_df.index))\n",
    "\n",
    "    fig = px.line(new_df, x = 'Date', y = useful_data.columns[i[1]])\n",
    "    fig = go.Figure(data=fig.data).update_layout(xaxis_title=\"Time\", yaxis_title=useful_data.columns[i[1]])\n",
    "\n",
    "    fig.add_vrect(x0=str(useful_data.iloc[anomaly-5].name),x1=str(useful_data.iloc[anomaly-4].name),fillcolor=\"black\", opacity=1)\n",
    "    fig.add_vrect(x0=str(useful_data.iloc[anomaly+5].name),x1=str(useful_data.iloc[anomaly+6].name),fillcolor=\"black\", opacity=1)\n",
    "    fig.add_vrect(x0=str(useful_data.iloc[anomaly].name),x1=str(useful_data.iloc[anomaly+1].name),fillcolor=\"black\", opacity=0.2)\n",
    "\n",
    "    fig.show()"
   ]
  },
  {
   "cell_type": "code",
   "execution_count": null,
   "metadata": {},
   "outputs": [],
   "source": [
    "\"\"\"\n",
    "import plotly.express as px\n",
    "import plotly.graph_objects as go\n",
    "\n",
    "from sklearn.preprocessing import MinMaxScaler\n",
    "scaler = MinMaxScaler()\n",
    "plot_df = pd.DataFrame(scaler.fit_transform(useful_data.values), columns=useful_data.columns, index=useful_data.index)\n",
    "\n",
    "for anomaly in anomalies[0]:\n",
    "    new_df = plot_df.loc[str(useful_data.iloc[anomaly-100].name):str(useful_data.iloc[anomaly+100].name)]\n",
    "    new_df.insert(loc=0,column='Date', value=pd.to_datetime(new_df.index))\n",
    "\n",
    "    fig = px.line(new_df, x = 'Date', y = useful_data.columns)\n",
    "    fig = go.Figure(data=fig.data).update_layout(xaxis_title=\"Time\", yaxis_title=\"Data\")\n",
    "\n",
    "    fig.add_vrect(x0=str(useful_data.iloc[anomaly-5].name),x1=str(useful_data.iloc[anomaly-4].name),fillcolor=\"black\", opacity=1)\n",
    "    fig.add_vrect(x0=str(useful_data.iloc[anomaly+5].name),x1=str(useful_data.iloc[anomaly+6].name),fillcolor=\"black\", opacity=1)\n",
    "    fig.add_vrect(x0=str(useful_data.iloc[anomaly].name),x1=str(useful_data.iloc[anomaly+1].name),fillcolor=\"black\", opacity=0.2)\n",
    "\n",
    "    fig.show()\n",
    "\"\"\""
   ]
  }
 ],
 "metadata": {
  "kernelspec": {
   "display_name": "base",
   "language": "python",
   "name": "python3"
  },
  "language_info": {
   "codemirror_mode": {
    "name": "ipython",
    "version": 3
   },
   "file_extension": ".py",
   "mimetype": "text/x-python",
   "name": "python",
   "nbconvert_exporter": "python",
   "pygments_lexer": "ipython3",
   "version": "3.9.7"
  },
  "orig_nbformat": 4,
  "vscode": {
   "interpreter": {
    "hash": "2572ea1b1ef9c8d2ad1a91dec6289fcd3897516dc536ea19b4e38370c1a20702"
   }
  }
 },
 "nbformat": 4,
 "nbformat_minor": 2
}
