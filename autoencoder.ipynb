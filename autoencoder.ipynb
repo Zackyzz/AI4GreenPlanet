{
 "cells": [
  {
   "cell_type": "code",
   "execution_count": null,
   "metadata": {},
   "outputs": [],
   "source": [
    "import pandas as pd\n",
    "import numpy as np\n",
    "\n",
    "energy_data = pd.read_csv(\"Extra//energy.csv\")\n",
    "energy_data['timestamp'] = pd.to_datetime(energy_data['timestamp'])\n",
    "energy_data.set_index('timestamp', inplace=True)\n",
    "resampled_energy = energy_data.resample(\"5s\").mean()\n",
    "resampled_energy = resampled_energy.fillna(method='ffill')\n",
    "resampled_energy = resampled_energy.fillna(method='bfill')\n",
    "\n",
    "env_data = pd.read_csv(\"Extra//environment.csv\")\n",
    "env_data['timestamp'] = pd.to_datetime(env_data['timestamp'])\n",
    "env_data.set_index('timestamp', inplace=True)\n",
    "resampled_env = env_data.resample(\"5s\").mean()\n",
    "resampled_env = resampled_env.fillna(method='ffill')\n",
    "resampled_env = resampled_env.fillna(method='bfill')"
   ]
  },
  {
   "cell_type": "code",
   "execution_count": null,
   "metadata": {},
   "outputs": [],
   "source": [
    "resampled_energy['reactive_power'] = resampled_energy[[\"Reactive Power A average [kVAr]\",\"Reactive Power B average [kVAr]\",\"Reactive Power C average [kVAr]\"]].mean(axis=1)\n",
    "resampled_energy['thdi'] = resampled_energy[[\"THDI A average [%]\",\"THDI B average [%]\",\"THDI C average [%]\"]].mean(axis=1)\n",
    "resampled_energy['thdu'] = resampled_energy[[\"THDU A average [%]\",\"THDU B average [%]\",\"THDU C average [%]\"]].mean(axis=1)\n",
    "resampled_energy['current'] = resampled_energy[[\"Current A average [A]\",\"Current B average [A]\",\"Current C average [A]\"]].mean(axis=1)\n",
    "resampled_energy['power_factor'] = resampled_energy[[\"Power Factor A average\",\"Power Factor B average\",\"Power Factor C average\"]].mean(axis=1)\n",
    "useful_data = resampled_energy.join(resampled_env)\n",
    "useful_data = useful_data[[\"reactive_power\", \"thdi\", \"thdu\", \"current\",\"Xacc\", \"pitch\",\"yaw\",\"sound\"]]\n",
    "useful_data = useful_data.dropna()\n",
    "useful_data = useful_data.iloc[:-(10 + (useful_data.shape[0] % 10))]\n",
    "useful_data"
   ]
  },
  {
   "cell_type": "code",
   "execution_count": null,
   "metadata": {},
   "outputs": [],
   "source": [
    "from sklearn.preprocessing import StandardScaler\n",
    "standard_scaler = StandardScaler()\n",
    "\n",
    "scaled_data = standard_scaler.fit_transform(useful_data)\n",
    "reshaped_scaled_data = scaled_data.reshape(scaled_data.shape[0]//10, 10, scaled_data.shape[1])\n",
    "reshaped_scaled_data.shape"
   ]
  },
  {
   "cell_type": "code",
   "execution_count": null,
   "metadata": {},
   "outputs": [],
   "source": [
    "from tensorflow.keras.models import Sequential\n",
    "from tensorflow.keras.layers import Dense, LSTM, RepeatVector, TimeDistributed\n",
    "from tensorflow.keras.optimizers import Adam\n",
    "from tensorflow.keras.layers import Bidirectional\n",
    "\n",
    "timesteps = reshaped_scaled_data.shape[1]\n",
    "n_features = reshaped_scaled_data.shape[2]\n",
    "\n",
    "autoencoder = Sequential([\n",
    "    Bidirectional(LSTM(64, activation='tanh', return_sequences=True), input_shape=(timesteps, n_features)),\n",
    "    Bidirectional(LSTM(32, activation='tanh', return_sequences=False)),\n",
    "    RepeatVector(timesteps),\n",
    "    Bidirectional(LSTM(32, activation='tanh', return_sequences=True)),\n",
    "    Bidirectional(LSTM(64, activation='tanh', return_sequences=True)),\n",
    "    TimeDistributed(Dense(n_features))\n",
    "])\n",
    "\n",
    "autoencoder.compile(optimizer=Adam(learning_rate=0.001), loss='mse')\n",
    "autoencoder.fit(reshaped_scaled_data, reshaped_scaled_data, epochs=3, batch_size=32, verbose=1)\n",
    "predictions = autoencoder.predict(reshaped_scaled_data)\n",
    "predictions = predictions.reshape(predictions.shape[0]*predictions.shape[1], predictions.shape[2])"
   ]
  },
  {
   "cell_type": "code",
   "execution_count": null,
   "metadata": {},
   "outputs": [],
   "source": [
    "mse = np.square(np.subtract(scaled_data, predictions))\n",
    "print(np.mean(mse))\n",
    "print(np.percentile(mse, 99.999))\n",
    "threshold = np.percentile(mse, 99.999)\n",
    "anomalies = np.where(mse > threshold)\n",
    "anomalies"
   ]
  },
  {
   "cell_type": "code",
   "execution_count": null,
   "metadata": {},
   "outputs": [],
   "source": [
    "import plotly.express as px\n",
    "import plotly.graph_objects as go\n",
    "\n",
    "from sklearn.preprocessing import MinMaxScaler\n",
    "scaler = MinMaxScaler()\n",
    "plot_df = pd.DataFrame(scaler.fit_transform(useful_data.values), columns=useful_data.columns, index=useful_data.index)\n",
    "\n",
    "for i in list(zip(anomalies[0],anomalies[1]))[:10]:\n",
    "    anomaly = i[0]\n",
    "    new_df = plot_df.loc[str(useful_data.iloc[anomaly-100].name):str(useful_data.iloc[anomaly+100].name)]\n",
    "    new_df.insert(loc=0,column='Date', value=pd.to_datetime(new_df.index))\n",
    "\n",
    "    fig = px.line(new_df, x = 'Date', y = useful_data.columns[i[1]])\n",
    "    fig = go.Figure(data=fig.data).update_layout(xaxis_title=\"Time\", yaxis_title=useful_data.columns[i[1]])\n",
    "\n",
    "    fig.add_vrect(x0=str(useful_data.iloc[anomaly-5].name),x1=str(useful_data.iloc[anomaly-4].name),fillcolor=\"black\", opacity=1)\n",
    "    fig.add_vrect(x0=str(useful_data.iloc[anomaly+5].name),x1=str(useful_data.iloc[anomaly+6].name),fillcolor=\"black\", opacity=1)\n",
    "    fig.add_vrect(x0=str(useful_data.iloc[anomaly].name),x1=str(useful_data.iloc[anomaly+1].name),fillcolor=\"black\", opacity=0.2)\n",
    "\n",
    "    fig.show()"
   ]
  }
 ],
 "metadata": {
  "kernelspec": {
   "display_name": "base",
   "language": "python",
   "name": "python3"
  },
  "language_info": {
   "codemirror_mode": {
    "name": "ipython",
    "version": 3
   },
   "file_extension": ".py",
   "mimetype": "text/x-python",
   "name": "python",
   "nbconvert_exporter": "python",
   "pygments_lexer": "ipython3",
   "version": "3.9.13"
  },
  "orig_nbformat": 4,
  "vscode": {
   "interpreter": {
    "hash": "2572ea1b1ef9c8d2ad1a91dec6289fcd3897516dc536ea19b4e38370c1a20702"
   }
  }
 },
 "nbformat": 4,
 "nbformat_minor": 2
}
