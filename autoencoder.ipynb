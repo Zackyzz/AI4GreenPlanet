{
 "cells": [
  {
   "cell_type": "code",
   "execution_count": null,
   "metadata": {},
   "outputs": [],
   "source": [
    "import pandas as pd\n",
    "energy_data = pd.read_csv(\"Extra//energy.csv\")\n",
    "\n",
    "energy_data.timestamp = pd.to_datetime(energy_data.timestamp, format='%Y-%m-%d %H:%M:%S')\n",
    "energy_data.index = energy_data.timestamp\n",
    "resampled_df = energy_data.resample(\"2s\").mean()\n",
    "resampled_df.head()"
   ]
  },
  {
   "cell_type": "code",
   "execution_count": null,
   "metadata": {},
   "outputs": [],
   "source": [
    "resampled_df['active_power'] = resampled_df[[\"Active Power A average [kW]\",\"Active Power B average [kW]\",\"Active Power C average [kW]\"]].mean(axis=1)\n",
    "resampled_df['thdi'] = resampled_df[[\"THDI A average [%]\",\"THDI B average [%]\",\"THDI C average [%]\"]].mean(axis=1)\n",
    "resampled_df['thdu'] = resampled_df[[\"THDU A average [%]\",\"THDU B average [%]\",\"THDU C average [%]\"]].mean(axis=1)\n",
    "resampled_df['current'] = resampled_df[[\"Current A average [A]\",\"Current B average [A]\",\"Current C average [A]\"]].mean(axis=1)\n",
    "resampled_df['power'] = resampled_df[[\"Power Factor A average\",\"Power Factor B average\",\"Power Factor C average\"]].mean(axis=1)\n",
    "useful_data = resampled_df[[\"active_power\",\"thdi\",\"thdu\", \"current\",\"power\"]]\n",
    "useful_data = useful_data.dropna()\n",
    "useful_data"
   ]
  },
  {
   "cell_type": "code",
   "execution_count": null,
   "metadata": {},
   "outputs": [],
   "source": [
    "from sklearn.preprocessing import StandardScaler\n",
    "scaler = StandardScaler()\n",
    "\n",
    "scaled_df = pd.DataFrame(scaler.fit_transform(useful_data.values), columns=useful_data.columns, index=useful_data.index)\n",
    "scaled_df"
   ]
  },
  {
   "cell_type": "code",
   "execution_count": null,
   "metadata": {},
   "outputs": [],
   "source": [
    "import numpy as np\n",
    "\n",
    "sequence_length = 10\n",
    "subsequences = np.zeros((scaled_df.shape[0] // sequence_length, sequence_length, scaled_df.shape[1]))\n",
    "\n",
    "for i in range(scaled_df.shape[0] // sequence_length):\n",
    "    subsequences[i] = scaled_df[i*sequence_length : (i+1)*sequence_length]\n",
    "\n",
    "subsequences.shape"
   ]
  },
  {
   "cell_type": "code",
   "execution_count": null,
   "metadata": {},
   "outputs": [],
   "source": [
    "from tensorflow import keras\n",
    "from tensorflow.keras import layers\n",
    "\n",
    "input_shape = (sequence_length, 5)\n",
    "latent_dim = 8\n",
    "\n",
    "encoder_inputs = keras.Input(shape=input_shape)\n",
    "encoder = layers.LSTM(latent_dim, return_sequences=True)(encoder_inputs)\n",
    "encoder = layers.LSTM(latent_dim)(encoder)\n",
    "\n",
    "decoder_inputs = layers.RepeatVector(sequence_length)(encoder)\n",
    "decoder = layers.LSTM(latent_dim, return_sequences=True)(decoder_inputs)\n",
    "decoder_outputs = layers.TimeDistributed(layers.Dense(5))(decoder)\n",
    "\n",
    "autoencoder = keras.Model(encoder_inputs, decoder_outputs)\n",
    "autoencoder.compile(optimizer='adam', loss='mse')\n",
    "\n",
    "autoencoder.fit(subsequences, subsequences, epochs=30, batch_size=100)\n",
    "\n",
    "predictions = autoencoder.predict(subsequences)\n",
    "mse = np.mean(np.power(subsequences - predictions, 2), axis=1)"
   ]
  },
  {
   "cell_type": "code",
   "execution_count": null,
   "metadata": {},
   "outputs": [],
   "source": [
    "anomalies = np.where(mse > 5)[0]\n",
    "anomalies"
   ]
  },
  {
   "cell_type": "code",
   "execution_count": null,
   "metadata": {},
   "outputs": [],
   "source": [
    "from sklearn.preprocessing import MinMaxScaler\n",
    "scaler = MinMaxScaler()\n",
    "plot_df = pd.DataFrame(scaler.fit_transform(useful_data.values), columns=useful_data.columns, index=useful_data.index)\n",
    "\n",
    "new_df = plot_df.loc['2022-11-07 07:00:00':'2022-11-08 18:00:00']\n",
    "new_df.insert(loc=0,column='Date', value=pd.to_datetime(new_df.index))\n",
    "\n",
    "import plotly.express as px\n",
    "import plotly.graph_objects as go\n",
    "\n",
    "fig = px.line(new_df, x = 'Date', y = new_df.columns)\n",
    "\n",
    "fig3 = go.Figure(data=fig.data).update_layout(xaxis_title=\"Time\", yaxis_title=\"Energy Data\")\n",
    "for i in anomalies[0:4]:\n",
    "    fig.add_vrect(x0=str(useful_data.iloc[i*sequence_length].name),\n",
    "                  x1=str(useful_data.iloc[(i+1)*sequence_length].name), fillcolor=\"black\", opacity=0.15)\n",
    "\n",
    "fig.show()"
   ]
  }
 ],
 "metadata": {
  "kernelspec": {
   "display_name": "base",
   "language": "python",
   "name": "python3"
  },
  "language_info": {
   "codemirror_mode": {
    "name": "ipython",
    "version": 3
   },
   "file_extension": ".py",
   "mimetype": "text/x-python",
   "name": "python",
   "nbconvert_exporter": "python",
   "pygments_lexer": "ipython3",
   "version": "3.9.7"
  },
  "orig_nbformat": 4,
  "vscode": {
   "interpreter": {
    "hash": "2572ea1b1ef9c8d2ad1a91dec6289fcd3897516dc536ea19b4e38370c1a20702"
   }
  }
 },
 "nbformat": 4,
 "nbformat_minor": 2
}
